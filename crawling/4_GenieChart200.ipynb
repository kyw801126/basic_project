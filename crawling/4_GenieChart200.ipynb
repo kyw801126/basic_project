{
 "cells": [
  {
   "cell_type": "code",
   "execution_count": 3,
   "id": "34f74058",
   "metadata": {},
   "outputs": [],
   "source": [
    "import requests\n",
    "from bs4 import BeautifulSoup\n",
    "import pandas as pd\n",
    "url = 'https://www.genie.co.kr/chart/top200'\n",
    "header = {'User-Agent': 'Mozilla/5.0 (Windows NT 10.0; Win64; x64) AppleWebKit/537.36 (KHTML, like Gecko) Chrome/103.0.0.0 Safari/537.36'}\n",
    "req = requests.get(url, headers=header)\n",
    "soup = BeautifulSoup(req.text, 'html.parser')"
   ]
  },
  {
   "cell_type": "code",
   "execution_count": 4,
   "id": "9c61d2c6",
   "metadata": {},
   "outputs": [
    {
     "data": {
      "text/plain": [
       "50"
      ]
     },
     "execution_count": 4,
     "metadata": {},
     "output_type": "execute_result"
    }
   ],
   "source": [
    "trs = soup.select('tr.list')\n",
    "len(trs)"
   ]
  },
  {
   "cell_type": "code",
   "execution_count": 5,
   "id": "41dab4d9",
   "metadata": {},
   "outputs": [
    {
     "data": {
      "text/plain": [
       "50"
      ]
     },
     "execution_count": 5,
     "metadata": {},
     "output_type": "execute_result"
    }
   ],
   "source": [
    "# 개발자 도구에서 찾아주는 selector\n",
    "trs = soup.select('#body-content > div.newest-list > div > table > tbody > tr')\n",
    "len(trs)"
   ]
  },
  {
   "cell_type": "code",
   "execution_count": 6,
   "id": "64a3ebef",
   "metadata": {},
   "outputs": [
    {
     "data": {
      "text/plain": [
       "<tr class=\"list\" songid=\"96480048\">\n",
       "<td class=\"check\"><input class=\"select-check\" title=\"LOVE DIVE\" type=\"checkbox\"/></td>\n",
       "<td class=\"number\">13\n",
       "                                        \n",
       "                                    <span class=\"rank\">\n",
       "<span class=\"rank\"><span class=\"rank-up\">14<span class=\"hide\">상승</span></span></span>\n",
       "</span>\n",
       "</td>\n",
       "<td><a class=\"cover\" href=\"#\" onclick=\"fnViewAlbumLayer('82624363');return false;\"><span class=\"mask\"></span><img alt=\"LOVE DIVE\" onerror=\"this.src='//image.genie.co.kr/imageg/web/common/blank_68.gif';\" src=\"//image.genie.co.kr/Y/IMAGE/IMG_ALBUM/082/624/363/82624363_1649123068092_1_140x140.JPG/dims/resize/Q_80,0\"/></a></td>\n",
       "<td class=\"link\"><a class=\"btn-basic btn-info\" href=\"#\" onclick=\"fnViewSongInfo('96480048');return false;\">곡 제목 정보 페이지</a></td>\n",
       "<td class=\"info\">\n",
       "<a class=\"title ellipsis\" href=\"#\" onclick=\"fnPlaySong('96480048','1');return false;\" title=\"재생\">\n",
       "                                        \n",
       "                                            \n",
       "                                        \n",
       "                                        \n",
       "                                        \n",
       "                                        \n",
       "                                            \n",
       "                                                LOVE DIVE</a>\n",
       "<a class=\"artist ellipsis\" href=\"#\" onclick=\"fnViewArtist('81271496');return false;\">IVE (아이브)</a>\n",
       "<div class=\"toggle-button-box\">\n",
       "<button class=\"btn artist-etc\" onclick=\"fnRelationArtistList('96480048');\" type=\"button\">외</button>\n",
       "<ul class=\"list\" id=\"RelationArtist_96480048\"></ul>\n",
       "</div>\n",
       "<i class=\"bar\">|</i>\n",
       "<a class=\"albumtitle ellipsis\" href=\"#\" onclick=\"fnViewAlbumLayer('82624363');return false;\">LOVE DIVE</a>\n",
       "</td>\n",
       "<td class=\"btns\"><a class=\"btn-basic btn-listen\" href=\"#\" onclick=\"fnPlaySong('96480048;' ,'1'); return false;\" title=\"재생\">듣기</a></td>\n",
       "<td class=\"btns\"><a class=\"btn-basic btn-add\" href=\"#\" onclick=\"fnPlaySong('96480048;' ,'3'); return false;\" title=\"추가\">재생목록에 추가</a></td>\n",
       "<td class=\"btns\"><button class=\"btn-basic btn-album\" id=\"add_my_album_96480048\" onclick=\"fnAddMyAlbumForm('#add_my_album_96480048' , '96480048' ,10, 10);return false;\" songid=\"96480048\" type=\"button\">플레이리스트에 담기</button></td>\n",
       "<td class=\"btns\"><a class=\"btn-basic btn-down\" href=\"#\" onclick=\"fnDownSong('96480048');return false;\" title=\"다운\">다운로드</a></td>\n",
       "<td class=\"btns\">\n",
       "<div class=\"toggle-button-box lyr-mv\" id=\"list-mv_96480048\">\n",
       "<a alt=\"LOVE DIVE\" class=\"btn btn-basic btn-mv\" href=\"#\" onclick=\"fnPlayMv('96480048','3'); return false;\" title=\"뮤비\">뮤직비디오 보기</a>\n",
       "</div>\n",
       "</td>\n",
       "<td class=\"more\">\n",
       "<div class=\"toggle-button-box\">\n",
       "<button class=\"btn btn-basic btn-more\" type=\"button\">더보기</button>\n",
       "<ul class=\"list\">\n",
       "<li><a class=\"item\" href=\"#\" onclick=\"shareDo('96480048');return false;\" title=\"공유\">공유하기/음악나누기</a></li>\n",
       "<li><a class=\"item\" href=\"#\" onclick=\"fnGiftSong('96480048');return false;\" title=\"선물\">선물하기</a></li>\n",
       "</ul>\n",
       "</div>\n",
       "</td>\n",
       "</tr>"
      ]
     },
     "execution_count": 6,
     "metadata": {},
     "output_type": "execute_result"
    }
   ],
   "source": [
    "tr = trs[12]\n",
    "tr"
   ]
  },
  {
   "cell_type": "code",
   "execution_count": 7,
   "id": "6e245b6f",
   "metadata": {},
   "outputs": [
    {
     "data": {
      "text/plain": [
       "'13\\n                                        \\n                                    \\n14상승\\n\\n'"
      ]
     },
     "execution_count": 7,
     "metadata": {},
     "output_type": "execute_result"
    }
   ],
   "source": [
    "#rank\n",
    "tr.select_one('.number').get_text()"
   ]
  },
  {
   "cell_type": "code",
   "execution_count": 8,
   "id": "3345a015",
   "metadata": {},
   "outputs": [],
   "source": [
    "try:\n",
    "    rank = int(tr.select_one('.number').get_text().split('\\n')[0])\n",
    "except:\n",
    "    rank = 0"
   ]
  },
  {
   "cell_type": "code",
   "execution_count": 9,
   "id": "c9e0196f",
   "metadata": {},
   "outputs": [
    {
     "data": {
      "text/plain": [
       "13"
      ]
     },
     "execution_count": 9,
     "metadata": {},
     "output_type": "execute_result"
    }
   ],
   "source": [
    "rank"
   ]
  },
  {
   "cell_type": "code",
   "execution_count": 10,
   "id": "761766cc",
   "metadata": {},
   "outputs": [
    {
     "data": {
      "text/plain": [
       "'LOVE DIVE'"
      ]
     },
     "execution_count": 10,
     "metadata": {},
     "output_type": "execute_result"
    }
   ],
   "source": [
    "#제목\n",
    "# title = tr.select_one('.title.ellipsis').string.strip()\n",
    "# title\n",
    "try: # 일반적인노래\n",
    "    title = tr.select_one('.title.ellipsis').string.strip()\n",
    "except: #19금 노래 \n",
    "    title = tr.select_one('.title.ellipsis').get_text().split('\\n')[-1].strip()\n",
    "title"
   ]
  },
  {
   "cell_type": "code",
   "execution_count": 11,
   "id": "3b5f535c",
   "metadata": {},
   "outputs": [
    {
     "data": {
      "text/plain": [
       "'IVE (아이브)'"
      ]
     },
     "execution_count": 11,
     "metadata": {},
     "output_type": "execute_result"
    }
   ],
   "source": [
    "#artist\n",
    "artist = tr.select_one('.artist.ellipsis').text.strip()\n",
    "artist"
   ]
  },
  {
   "cell_type": "code",
   "execution_count": 12,
   "id": "5ab03e29",
   "metadata": {},
   "outputs": [
    {
     "data": {
      "text/plain": [
       "'LOVE DIVE'"
      ]
     },
     "execution_count": 12,
     "metadata": {},
     "output_type": "execute_result"
    }
   ],
   "source": [
    "#album\n",
    "album = tr.select_one('.albumtitle.ellipsis').text.strip()\n",
    "album"
   ]
  },
  {
   "cell_type": "markdown",
   "id": "9bec02f7",
   "metadata": {},
   "source": [
    "##  개별 리스트로 가져오기"
   ]
  },
  {
   "cell_type": "code",
   "execution_count": 13,
   "id": "3d9f6de2",
   "metadata": {},
   "outputs": [],
   "source": [
    "rank_list, title_list, artist_list, album_list = [], [], [], []\n",
    "for i, tr in enumerate(trs):\n",
    "    rank = int(tr.select_one('.number').get_text().split('\\n')[0])\n",
    "    title = tr.select_one('.title.ellipsis').string.strip()\n",
    "    artist = tr.select_one('.artist.ellipsis').text.strip()\n",
    "    album = tr.select_one('.albumtitle.ellipsis').text.strip()\n",
    "    rank_list.append(rank)\n",
    "    title_list.append(title)\n",
    "    artist_list.append(artist)\n",
    "    album_list.append(album)"
   ]
  },
  {
   "cell_type": "code",
   "execution_count": 14,
   "id": "7d432215",
   "metadata": {},
   "outputs": [
    {
     "data": {
      "text/html": [
       "<div>\n",
       "<style scoped>\n",
       "    .dataframe tbody tr th:only-of-type {\n",
       "        vertical-align: middle;\n",
       "    }\n",
       "\n",
       "    .dataframe tbody tr th {\n",
       "        vertical-align: top;\n",
       "    }\n",
       "\n",
       "    .dataframe thead th {\n",
       "        text-align: right;\n",
       "    }\n",
       "</style>\n",
       "<table border=\"1\" class=\"dataframe\">\n",
       "  <thead>\n",
       "    <tr style=\"text-align: right;\">\n",
       "      <th></th>\n",
       "      <th>순위</th>\n",
       "      <th>제목</th>\n",
       "      <th>아티스트</th>\n",
       "      <th>앨범</th>\n",
       "    </tr>\n",
       "  </thead>\n",
       "  <tbody>\n",
       "    <tr>\n",
       "      <th>0</th>\n",
       "      <td>1</td>\n",
       "      <td>Ditto</td>\n",
       "      <td>NewJeans</td>\n",
       "      <td>NewJeans 'OMG'</td>\n",
       "    </tr>\n",
       "    <tr>\n",
       "      <th>1</th>\n",
       "      <td>2</td>\n",
       "      <td>OMG</td>\n",
       "      <td>NewJeans</td>\n",
       "      <td>NewJeans 'OMG'</td>\n",
       "    </tr>\n",
       "    <tr>\n",
       "      <th>2</th>\n",
       "      <td>3</td>\n",
       "      <td>사건의 지평선</td>\n",
       "      <td>윤하 (YOUNHA)</td>\n",
       "      <td>YOUNHA 6th Album Repackage 'END THEORY : Final...</td>\n",
       "    </tr>\n",
       "    <tr>\n",
       "      <th>3</th>\n",
       "      <td>4</td>\n",
       "      <td>Hype boy</td>\n",
       "      <td>NewJeans</td>\n",
       "      <td>NewJeans 1st EP 'New Jeans'</td>\n",
       "    </tr>\n",
       "    <tr>\n",
       "      <th>4</th>\n",
       "      <td>5</td>\n",
       "      <td>ANTIFRAGILE</td>\n",
       "      <td>LE SSERAFIM (르세라핌)</td>\n",
       "      <td>ANTIFRAGILE</td>\n",
       "    </tr>\n",
       "    <tr>\n",
       "      <th>5</th>\n",
       "      <td>6</td>\n",
       "      <td>After LIKE</td>\n",
       "      <td>IVE (아이브)</td>\n",
       "      <td>After LIKE</td>\n",
       "    </tr>\n",
       "    <tr>\n",
       "      <th>6</th>\n",
       "      <td>7</td>\n",
       "      <td>NOT SORRY (Feat. pH-1) (Prod. by Slom)</td>\n",
       "      <td>이영지</td>\n",
       "      <td>쇼미더머니 11 Episode 3</td>\n",
       "    </tr>\n",
       "    <tr>\n",
       "      <th>7</th>\n",
       "      <td>8</td>\n",
       "      <td>Attention</td>\n",
       "      <td>NewJeans</td>\n",
       "      <td>NewJeans 1st EP 'New Jeans'</td>\n",
       "    </tr>\n",
       "    <tr>\n",
       "      <th>8</th>\n",
       "      <td>9</td>\n",
       "      <td>사랑은 늘 도망가</td>\n",
       "      <td>임영웅</td>\n",
       "      <td>신사와 아가씨 OST Part.2</td>\n",
       "    </tr>\n",
       "    <tr>\n",
       "      <th>9</th>\n",
       "      <td>10</td>\n",
       "      <td>우리들의 블루스</td>\n",
       "      <td>임영웅</td>\n",
       "      <td>IM HERO</td>\n",
       "    </tr>\n",
       "  </tbody>\n",
       "</table>\n",
       "</div>"
      ],
      "text/plain": [
       "   순위                                      제목                아티스트  \\\n",
       "0   1                                   Ditto            NewJeans   \n",
       "1   2                                     OMG            NewJeans   \n",
       "2   3                                 사건의 지평선         윤하 (YOUNHA)   \n",
       "3   4                                Hype boy            NewJeans   \n",
       "4   5                             ANTIFRAGILE  LE SSERAFIM (르세라핌)   \n",
       "5   6                              After LIKE           IVE (아이브)   \n",
       "6   7  NOT SORRY (Feat. pH-1) (Prod. by Slom)                 이영지   \n",
       "7   8                               Attention            NewJeans   \n",
       "8   9                               사랑은 늘 도망가                 임영웅   \n",
       "9  10                                우리들의 블루스                 임영웅   \n",
       "\n",
       "                                                  앨범  \n",
       "0                                     NewJeans 'OMG'  \n",
       "1                                     NewJeans 'OMG'  \n",
       "2  YOUNHA 6th Album Repackage 'END THEORY : Final...  \n",
       "3                        NewJeans 1st EP 'New Jeans'  \n",
       "4                                        ANTIFRAGILE  \n",
       "5                                         After LIKE  \n",
       "6                                 쇼미더머니 11 Episode 3  \n",
       "7                        NewJeans 1st EP 'New Jeans'  \n",
       "8                                 신사와 아가씨 OST Part.2  \n",
       "9                                            IM HERO  "
      ]
     },
     "execution_count": 14,
     "metadata": {},
     "output_type": "execute_result"
    }
   ],
   "source": [
    "df = pd.DataFrame({'순위':rank_list, '제목':title_list,\n",
    "                   '아티스트':artist_list, '앨범' :album_list})\n",
    "df.head(10)"
   ]
  },
  {
   "cell_type": "code",
   "execution_count": 15,
   "id": "63f4ba74",
   "metadata": {},
   "outputs": [
    {
     "data": {
      "text/html": [
       "<div>\n",
       "<style scoped>\n",
       "    .dataframe tbody tr th:only-of-type {\n",
       "        vertical-align: middle;\n",
       "    }\n",
       "\n",
       "    .dataframe tbody tr th {\n",
       "        vertical-align: top;\n",
       "    }\n",
       "\n",
       "    .dataframe thead th {\n",
       "        text-align: right;\n",
       "    }\n",
       "</style>\n",
       "<table border=\"1\" class=\"dataframe\">\n",
       "  <thead>\n",
       "    <tr style=\"text-align: right;\">\n",
       "      <th></th>\n",
       "      <th>순위</th>\n",
       "      <th>제목</th>\n",
       "      <th>아티스트</th>\n",
       "      <th>앨범</th>\n",
       "    </tr>\n",
       "  </thead>\n",
       "  <tbody>\n",
       "    <tr>\n",
       "      <th>40</th>\n",
       "      <td>41</td>\n",
       "      <td>Dreamers (Music from the FIFA World Cup Qatar ...</td>\n",
       "      <td>정국 &amp; 방탄소년단</td>\n",
       "      <td>Dreamers (Music from the FIFA World Cup Qatar ...</td>\n",
       "    </tr>\n",
       "    <tr>\n",
       "      <th>41</th>\n",
       "      <td>42</td>\n",
       "      <td>That's Hilarious</td>\n",
       "      <td>Charlie Puth</td>\n",
       "      <td>CHARLIE</td>\n",
       "    </tr>\n",
       "    <tr>\n",
       "      <th>42</th>\n",
       "      <td>43</td>\n",
       "      <td>Rush Hour (Feat. j-hope of BTS)</td>\n",
       "      <td>Crush</td>\n",
       "      <td>Rush Hour</td>\n",
       "    </tr>\n",
       "    <tr>\n",
       "      <th>43</th>\n",
       "      <td>44</td>\n",
       "      <td>해요 (2022)</td>\n",
       "      <td>#안녕</td>\n",
       "      <td>해요 (2022)</td>\n",
       "    </tr>\n",
       "    <tr>\n",
       "      <th>44</th>\n",
       "      <td>45</td>\n",
       "      <td>그대를 알고</td>\n",
       "      <td>송하예</td>\n",
       "      <td>그대를 알고</td>\n",
       "    </tr>\n",
       "    <tr>\n",
       "      <th>45</th>\n",
       "      <td>46</td>\n",
       "      <td>너의 모든 순간</td>\n",
       "      <td>성시경</td>\n",
       "      <td>별에서 온 그대 OST Part.7 (SBS 수목드라마)</td>\n",
       "    </tr>\n",
       "    <tr>\n",
       "      <th>46</th>\n",
       "      <td>47</td>\n",
       "      <td>내가 아니라도</td>\n",
       "      <td>주호</td>\n",
       "      <td>내가 아니라도</td>\n",
       "    </tr>\n",
       "    <tr>\n",
       "      <th>47</th>\n",
       "      <td>48</td>\n",
       "      <td>The Drum</td>\n",
       "      <td>Alan Walker</td>\n",
       "      <td>Walkerverse, Pt. I</td>\n",
       "    </tr>\n",
       "    <tr>\n",
       "      <th>48</th>\n",
       "      <td>49</td>\n",
       "      <td>그라데이션</td>\n",
       "      <td>10CM</td>\n",
       "      <td>5.3</td>\n",
       "    </tr>\n",
       "    <tr>\n",
       "      <th>49</th>\n",
       "      <td>50</td>\n",
       "      <td>자격지심 (Feat. ZICO)</td>\n",
       "      <td>BE'O (비오)</td>\n",
       "      <td>FIVE SENSES</td>\n",
       "    </tr>\n",
       "  </tbody>\n",
       "</table>\n",
       "</div>"
      ],
      "text/plain": [
       "    순위                                                 제목          아티스트  \\\n",
       "40  41  Dreamers (Music from the FIFA World Cup Qatar ...    정국 & 방탄소년단   \n",
       "41  42                                   That's Hilarious  Charlie Puth   \n",
       "42  43                    Rush Hour (Feat. j-hope of BTS)         Crush   \n",
       "43  44                                          해요 (2022)           #안녕   \n",
       "44  45                                             그대를 알고           송하예   \n",
       "45  46                                           너의 모든 순간           성시경   \n",
       "46  47                                            내가 아니라도            주호   \n",
       "47  48                                           The Drum   Alan Walker   \n",
       "48  49                                              그라데이션          10CM   \n",
       "49  50                                  자격지심 (Feat. ZICO)     BE'O (비오)   \n",
       "\n",
       "                                                   앨범  \n",
       "40  Dreamers (Music from the FIFA World Cup Qatar ...  \n",
       "41                                            CHARLIE  \n",
       "42                                          Rush Hour  \n",
       "43                                          해요 (2022)  \n",
       "44                                             그대를 알고  \n",
       "45                    별에서 온 그대 OST Part.7 (SBS 수목드라마)  \n",
       "46                                            내가 아니라도  \n",
       "47                                 Walkerverse, Pt. I  \n",
       "48                                                5.3  \n",
       "49                                        FIVE SENSES  "
      ]
     },
     "execution_count": 15,
     "metadata": {},
     "output_type": "execute_result"
    }
   ],
   "source": [
    "df.tail(10)"
   ]
  },
  {
   "cell_type": "code",
   "execution_count": 32,
   "id": "e29bd775",
   "metadata": {},
   "outputs": [],
   "source": [
    "lines = []\n",
    "for page in range(1,5):\n",
    "    url = f'https://www.genie.co.kr/chart/top200?ditc=D&ymd=20230112&hh=09&rtm=Y&pg={page}'\n",
    "    req = requests.get(url, headers=header)\n",
    "    soup = BeautifulSoup(req.text, 'html.parser')\n",
    "    trs = soup.select('tr.list')\n",
    "    \n",
    "    for tr in trs:\n",
    "        try:\n",
    "            rank = int(tr.select_one('.number').get_text().split('\\n')[0])\n",
    "        except:\n",
    "            rank = 0\n",
    "        try: # 일반적인노래\n",
    "            title = tr.select_one('.title.ellipsis').string.strip()\n",
    "        except: #19금 노래 \n",
    "            title = tr.select_one('.title.ellipsis').get_text().split('\\n')[-1].strip()\n",
    "        artist = tr.select_one('.artist.ellipsis').text.strip()\n",
    "        album = tr.select_one('.albumtitle.ellipsis').text.strip()\n",
    "        line = [rank, title, artist, album]\n",
    "        lines.append(line)"
   ]
  },
  {
   "cell_type": "code",
   "execution_count": 36,
   "id": "5aa44dcb",
   "metadata": {},
   "outputs": [
    {
     "data": {
      "text/html": [
       "<div>\n",
       "<style scoped>\n",
       "    .dataframe tbody tr th:only-of-type {\n",
       "        vertical-align: middle;\n",
       "    }\n",
       "\n",
       "    .dataframe tbody tr th {\n",
       "        vertical-align: top;\n",
       "    }\n",
       "\n",
       "    .dataframe thead th {\n",
       "        text-align: right;\n",
       "    }\n",
       "</style>\n",
       "<table border=\"1\" class=\"dataframe\">\n",
       "  <thead>\n",
       "    <tr style=\"text-align: right;\">\n",
       "      <th></th>\n",
       "      <th>순위</th>\n",
       "      <th>제목</th>\n",
       "      <th>가수</th>\n",
       "      <th>앨범</th>\n",
       "    </tr>\n",
       "  </thead>\n",
       "  <tbody>\n",
       "    <tr>\n",
       "      <th>195</th>\n",
       "      <td>196</td>\n",
       "      <td>첫사랑</td>\n",
       "      <td>백아</td>\n",
       "      <td>첫사랑</td>\n",
       "    </tr>\n",
       "    <tr>\n",
       "      <th>196</th>\n",
       "      <td>197</td>\n",
       "      <td>STEP</td>\n",
       "      <td>카라 (KARA)</td>\n",
       "      <td>STEP (KARA 3rd Album)</td>\n",
       "    </tr>\n",
       "    <tr>\n",
       "      <th>197</th>\n",
       "      <td>198</td>\n",
       "      <td>어제처럼</td>\n",
       "      <td>폴킴</td>\n",
       "      <td>어제처럼</td>\n",
       "    </tr>\n",
       "    <tr>\n",
       "      <th>198</th>\n",
       "      <td>199</td>\n",
       "      <td>딴딴따단</td>\n",
       "      <td>미유 (Mew)</td>\n",
       "      <td>딴딴따단</td>\n",
       "    </tr>\n",
       "    <tr>\n",
       "      <th>199</th>\n",
       "      <td>200</td>\n",
       "      <td>어른</td>\n",
       "      <td>Sondia</td>\n",
       "      <td>나의 아저씨 OST Part. 2 (tvN 수목드라마)</td>\n",
       "    </tr>\n",
       "  </tbody>\n",
       "</table>\n",
       "</div>"
      ],
      "text/plain": [
       "      순위    제목         가수                              앨범\n",
       "195  196   첫사랑         백아                             첫사랑\n",
       "196  197  STEP  카라 (KARA)           STEP (KARA 3rd Album)\n",
       "197  198  어제처럼         폴킴                            어제처럼\n",
       "198  199  딴딴따단   미유 (Mew)                            딴딴따단\n",
       "199  200    어른     Sondia  나의 아저씨 OST Part. 2 (tvN 수목드라마)"
      ]
     },
     "execution_count": 36,
     "metadata": {},
     "output_type": "execute_result"
    }
   ],
   "source": [
    "df = pd.DataFrame(lines, columns=['순위','제목','가수','앨범'])\n",
    "df.tail()"
   ]
  },
  {
   "cell_type": "code",
   "execution_count": null,
   "id": "5723a04c",
   "metadata": {},
   "outputs": [],
   "source": []
  }
 ],
 "metadata": {
  "kernelspec": {
   "display_name": "Python 3 (ipykernel)",
   "language": "python",
   "name": "python3"
  },
  "language_info": {
   "codemirror_mode": {
    "name": "ipython",
    "version": 3
   },
   "file_extension": ".py",
   "mimetype": "text/x-python",
   "name": "python",
   "nbconvert_exporter": "python",
   "pygments_lexer": "ipython3",
   "version": "3.8.7"
  }
 },
 "nbformat": 4,
 "nbformat_minor": 5
}
