{
 "cells": [
  {
   "cell_type": "markdown",
   "id": "8d70e053",
   "metadata": {},
   "source": [
    "#  Google 을 크롤링 - chrome driver 검색"
   ]
  },
  {
   "cell_type": "code",
   "execution_count": 1,
   "id": "4c247a76",
   "metadata": {},
   "outputs": [],
   "source": [
    "import requests\n",
    "from bs4 import BeautifulSoup\n",
    "import pandas as pd\n",
    "import time\n",
    "from selenium import webdriver\n",
    "from selenium.webdriver.common.keys import Keys\n",
    "from selenium.webdriver.common.by import By"
   ]
  },
  {
   "cell_type": "code",
   "execution_count": 9,
   "id": "e1b5120c",
   "metadata": {},
   "outputs": [],
   "source": [
    "url = 'https://www.google.co.kr/'\n",
    "driver = webdriver.Chrome()\n",
    "driver.get(url)"
   ]
  },
  {
   "cell_type": "code",
   "execution_count": 10,
   "id": "a5cb62ad",
   "metadata": {},
   "outputs": [],
   "source": [
    "search_box = driver.find_element(by=By.NAME, value='q')\n",
    "search_box.send_keys('ChromeDriver')\n",
    "search_box.send_keys(Keys.ENTER)\n",
    "time.sleep(2)"
   ]
  },
  {
   "cell_type": "code",
   "execution_count": 14,
   "id": "d565e8d0",
   "metadata": {},
   "outputs": [
    {
     "data": {
      "text/plain": [
       "9"
      ]
     },
     "execution_count": 14,
     "metadata": {},
     "output_type": "execute_result"
    }
   ],
   "source": [
    "divs = driver.find_elements(By.CSS_SELECTOR, '#search .g')\n",
    "len(divs)"
   ]
  },
  {
   "cell_type": "code",
   "execution_count": 17,
   "id": "8c87b701",
   "metadata": {},
   "outputs": [
    {
     "data": {
      "text/plain": [
       "<selenium.webdriver.remote.webelement.WebElement (session=\"da22564739ec640adc7a6bef5d26ae01\", element=\"9f400a25-17b3-489c-bddf-82841d498721\")>"
      ]
     },
     "execution_count": 17,
     "metadata": {},
     "output_type": "execute_result"
    }
   ],
   "source": [
    "div = divs[0]"
   ]
  },
  {
   "cell_type": "code",
   "execution_count": 18,
   "id": "01cf4cfc",
   "metadata": {},
   "outputs": [],
   "source": [
    "title = div.find_element(By.CSS_SELECTOR, '.LC20lb.MBeuO.DKV0Md').text"
   ]
  },
  {
   "cell_type": "code",
   "execution_count": 19,
   "id": "129cfd92",
   "metadata": {},
   "outputs": [
    {
     "data": {
      "text/plain": [
       "'WebDriver for Chrome - Downloads'"
      ]
     },
     "execution_count": 19,
     "metadata": {},
     "output_type": "execute_result"
    }
   ],
   "source": [
    "title"
   ]
  },
  {
   "cell_type": "code",
   "execution_count": 20,
   "id": "5e30bb4e",
   "metadata": {},
   "outputs": [
    {
     "data": {
      "text/plain": [
       "'If you are using Chrome version 109, please download ChromeDriver 109.0.5414.74 · If you are using Chrome version 108, please download ChromeDriver 108.0.5359.71.'"
      ]
     },
     "execution_count": 20,
     "metadata": {},
     "output_type": "execute_result"
    }
   ],
   "source": [
    "contents = div.find_element(By.CSS_SELECTOR, '.VwiC3b.yXK7lf.MUxGbd').text.strip()\n",
    "contents"
   ]
  },
  {
   "cell_type": "code",
   "execution_count": 21,
   "id": "bf18f103",
   "metadata": {},
   "outputs": [],
   "source": [
    "lines = []\n",
    "for div in divs:\n",
    "    try:\n",
    "        title = div.find_element(By.CSS_SELECTOR, '.LC20lb.MBeuO.DKV0Md').text\n",
    "        contents = div.find_element(By.CSS_SELECTOR, '.VwiC3b.yXK7lf.MUxGbd').text.strip()\n",
    "    except:\n",
    "        continue\n",
    "    lines.append([title, contents])"
   ]
  },
  {
   "cell_type": "code",
   "execution_count": 22,
   "id": "2942e60f",
   "metadata": {},
   "outputs": [
    {
     "data": {
      "text/html": [
       "<div>\n",
       "<style scoped>\n",
       "    .dataframe tbody tr th:only-of-type {\n",
       "        vertical-align: middle;\n",
       "    }\n",
       "\n",
       "    .dataframe tbody tr th {\n",
       "        vertical-align: top;\n",
       "    }\n",
       "\n",
       "    .dataframe thead th {\n",
       "        text-align: right;\n",
       "    }\n",
       "</style>\n",
       "<table border=\"1\" class=\"dataframe\">\n",
       "  <thead>\n",
       "    <tr style=\"text-align: right;\">\n",
       "      <th></th>\n",
       "      <th>title</th>\n",
       "      <th>contents</th>\n",
       "    </tr>\n",
       "  </thead>\n",
       "  <tbody>\n",
       "    <tr>\n",
       "      <th>0</th>\n",
       "      <td>WebDriver for Chrome - Downloads</td>\n",
       "      <td>If you are using Chrome version 109, please do...</td>\n",
       "    </tr>\n",
       "    <tr>\n",
       "      <th>1</th>\n",
       "      <td>Chromedriver 다운로드 및 설치하는 법 - 코딩으로 자아실현</td>\n",
       "      <td>2021. 9. 25. — 여기서는 Chrome의 Webdriver인 Chromed...</td>\n",
       "    </tr>\n",
       "    <tr>\n",
       "      <th>2</th>\n",
       "      <td>[Python] Selenium 사용법, ChromeDriver 설치 방법</td>\n",
       "      <td>2020. 2. 22. — Selenium이란?! · = 즉 자동화를 이용해서 여러...</td>\n",
       "    </tr>\n",
       "    <tr>\n",
       "      <th>3</th>\n",
       "      <td>Selenium으로 무적 크롤러 만들기 · GitBook</td>\n",
       "      <td>2017. 2. 27. — zip파일을 받고 풀어주면 chromedriver 라는 ...</td>\n",
       "    </tr>\n",
       "    <tr>\n",
       "      <th>4</th>\n",
       "      <td>ChromeDriver</td>\n",
       "      <td>chromedriver false 100.0.4896.20/chromedriver_...</td>\n",
       "    </tr>\n",
       "    <tr>\n",
       "      <th>5</th>\n",
       "      <td>ChromeDriver - 다운로드</td>\n",
       "      <td>ChromeDriver, 무료 및 안전한 다운로드. ChromeDriver 최신 버...</td>\n",
       "    </tr>\n",
       "    <tr>\n",
       "      <th>6</th>\n",
       "      <td>selenium) 설치하기! chromedriver 버전 오류 해결하기</td>\n",
       "      <td>2019. 5. 17. — 여기에서 현재 사용중인 크롬의 버전과 일치하는 버전의 파...</td>\n",
       "    </tr>\n",
       "    <tr>\n",
       "      <th>7</th>\n",
       "      <td>3분 안에 해결하는 크롬 드라이버 버전 오류 - Unlimited</td>\n",
       "      <td>2022. 5. 18. — SessionNotCreatedException: Mes...</td>\n",
       "    </tr>\n",
       "    <tr>\n",
       "      <th>8</th>\n",
       "      <td>ChromeDriver · SeleniumHQ/selenium Wiki - GitHub</td>\n",
       "      <td>2021. 12. 26. — A browser automation framework...</td>\n",
       "    </tr>\n",
       "  </tbody>\n",
       "</table>\n",
       "</div>"
      ],
      "text/plain": [
       "                                              title  \\\n",
       "0                  WebDriver for Chrome - Downloads   \n",
       "1            Chromedriver 다운로드 및 설치하는 법 - 코딩으로 자아실현   \n",
       "2         [Python] Selenium 사용법, ChromeDriver 설치 방법   \n",
       "3                   Selenium으로 무적 크롤러 만들기 · GitBook   \n",
       "4                                      ChromeDriver   \n",
       "5                               ChromeDriver - 다운로드   \n",
       "6           selenium) 설치하기! chromedriver 버전 오류 해결하기   \n",
       "7              3분 안에 해결하는 크롬 드라이버 버전 오류 - Unlimited   \n",
       "8  ChromeDriver · SeleniumHQ/selenium Wiki - GitHub   \n",
       "\n",
       "                                            contents  \n",
       "0  If you are using Chrome version 109, please do...  \n",
       "1  2021. 9. 25. — 여기서는 Chrome의 Webdriver인 Chromed...  \n",
       "2  2020. 2. 22. — Selenium이란?! · = 즉 자동화를 이용해서 여러...  \n",
       "3  2017. 2. 27. — zip파일을 받고 풀어주면 chromedriver 라는 ...  \n",
       "4  chromedriver false 100.0.4896.20/chromedriver_...  \n",
       "5  ChromeDriver, 무료 및 안전한 다운로드. ChromeDriver 최신 버...  \n",
       "6  2019. 5. 17. — 여기에서 현재 사용중인 크롬의 버전과 일치하는 버전의 파...  \n",
       "7  2022. 5. 18. — SessionNotCreatedException: Mes...  \n",
       "8  2021. 12. 26. — A browser automation framework...  "
      ]
     },
     "execution_count": 22,
     "metadata": {},
     "output_type": "execute_result"
    }
   ],
   "source": [
    "df = pd.DataFrame(lines , columns=['title', 'contents'])\n",
    "df"
   ]
  },
  {
   "cell_type": "code",
   "execution_count": null,
   "id": "50c40825",
   "metadata": {},
   "outputs": [],
   "source": []
  }
 ],
 "metadata": {
  "kernelspec": {
   "display_name": "Python 3 (ipykernel)",
   "language": "python",
   "name": "python3"
  },
  "language_info": {
   "codemirror_mode": {
    "name": "ipython",
    "version": 3
   },
   "file_extension": ".py",
   "mimetype": "text/x-python",
   "name": "python",
   "nbconvert_exporter": "python",
   "pygments_lexer": "ipython3",
   "version": "3.8.7"
  }
 },
 "nbformat": 4,
 "nbformat_minor": 5
}
