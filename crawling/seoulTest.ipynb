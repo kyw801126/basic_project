{
 "cells": [
  {
   "cell_type": "markdown",
   "id": "5181034a",
   "metadata": {},
   "source": [
    "# 소방청 - 타지역 검색"
   ]
  },
  {
   "cell_type": "code",
   "execution_count": 1,
   "id": "003a1047",
   "metadata": {},
   "outputs": [],
   "source": [
    "from bs4 import BeautifulSoup\n",
    "import pandas as pd\n",
    "import time\n",
    "from selenium import webdriver\n",
    "from selenium.webdriver.common.keys import Keys\n",
    "from selenium.webdriver.common.by import By"
   ]
  },
  {
   "cell_type": "code",
   "execution_count": 2,
   "id": "20e72f19",
   "metadata": {},
   "outputs": [],
   "source": [
    "driver = webdriver.Chrome()"
   ]
  },
  {
   "cell_type": "code",
   "execution_count": 4,
   "id": "a5ffa0b3",
   "metadata": {},
   "outputs": [],
   "source": [
    "url = 'https://www.nfa.go.kr/nfa/introduce/status/firestationidfo/?searchDistance=10&searchMode=distance&myX=37.5605672&myY=126.9433486&searchKeyword='\n",
    "driver.get(url)"
   ]
  },
  {
   "cell_type": "code",
   "execution_count": null,
   "id": "0ca3b2c6",
   "metadata": {},
   "outputs": [],
   "source": [
    "#입력창에 광주를 입력하고 버튼을 누르는 동작\n",
    "driver.find_element(By.ID 'searchKeyword').send_keys('서울')\n",
    "driver.find_element(By.ID 'fsSearchBtn').click()"
   ]
  },
  {
   "cell_type": "code",
   "execution_count": 7,
   "id": "c9ccf537",
   "metadata": {
    "scrolled": true
   },
   "outputs": [
    {
     "data": {
      "text/plain": [
       "10"
      ]
     },
     "execution_count": 7,
     "metadata": {},
     "output_type": "execute_result"
    }
   ],
   "source": [
    "#이동후에 Beautiful을 사용해 정보를 획득\n",
    "soup = BeautifulSoup(driver.page_source, 'html.parser')\n",
    "lis = soup.select('.stations-list > li')\n",
    "len(lis)"
   ]
  },
  {
   "cell_type": "code",
   "execution_count": 11,
   "id": "2082352e",
   "metadata": {},
   "outputs": [
    {
     "data": {
      "text/plain": [
       "'광산소방서_광주-평동-119 안전센터'"
      ]
     },
     "execution_count": 11,
     "metadata": {},
     "output_type": "execute_result"
    }
   ],
   "source": [
    "li = lis[0]\n",
    "name = li.select_one('.title').get_text().strip()\n",
    "name"
   ]
  },
  {
   "cell_type": "code",
   "execution_count": 13,
   "id": "94a6f5b4",
   "metadata": {},
   "outputs": [
    {
     "data": {
      "text/plain": [
       "'광주광역시 광산구 월전동 1251'"
      ]
     },
     "execution_count": 13,
     "metadata": {},
     "output_type": "execute_result"
    }
   ],
   "source": [
    "addr = li.find('address').string.strip()\n",
    "addr"
   ]
  },
  {
   "cell_type": "code",
   "execution_count": 15,
   "id": "dda53c72",
   "metadata": {},
   "outputs": [
    {
     "data": {
      "text/plain": [
       "'전화공사중'"
      ]
     },
     "execution_count": 15,
     "metadata": {},
     "output_type": "execute_result"
    }
   ],
   "source": [
    "tel = li.select_one('.tel').get_text().strip()\n",
    "tel"
   ]
  },
  {
   "cell_type": "code",
   "execution_count": 16,
   "id": "36726194",
   "metadata": {},
   "outputs": [],
   "source": [
    "lines = []\n",
    "for il in lis:\n",
    "    name = li.select_one('.title').get_text().strip()\n",
    "    addr = li.find('address').string.strip()\n",
    "    tel = li.select_one('.tel').get_text().strip()\n",
    "    lines.append([name, addr, tel])"
   ]
  },
  {
   "cell_type": "markdown",
   "id": "989cd696",
   "metadata": {},
   "source": [
    "## 두번째 페이지로 이동"
   ]
  },
  {
   "cell_type": "code",
   "execution_count": 17,
   "id": "d716ec45",
   "metadata": {},
   "outputs": [],
   "source": [
    "driver.find_element(By.XPATH, '//*[@id=\"listForm\"]/div/section/ul/li[1]/div/div/ul/li[5]/a').click()"
   ]
  },
  {
   "cell_type": "code",
   "execution_count": 8,
   "id": "125dba25",
   "metadata": {},
   "outputs": [
    {
     "data": {
      "text/plain": [
       "10"
      ]
     },
     "execution_count": 8,
     "metadata": {},
     "output_type": "execute_result"
    }
   ],
   "source": [
    "#이동후에 Beautiful을 사용해 정보를 획득\n",
    "soup = BeautifulSoup(driver.page_source, 'html.parser')\n",
    "lis = soup.select('.stations-list > li')\n",
    "len(lis)"
   ]
  },
  {
   "cell_type": "code",
   "execution_count": 19,
   "id": "94e7de23",
   "metadata": {},
   "outputs": [],
   "source": [
    "# 다음페이지로 이동하는 다른방식\n",
    "driver.find_element(By.CSS_SELECTOR, '.next_page').click()"
   ]
  },
  {
   "cell_type": "markdown",
   "id": "b7e72d5a",
   "metadata": {},
   "source": [
    "## 전체"
   ]
  },
  {
   "cell_type": "code",
   "execution_count": 21,
   "id": "b5c0fbf4",
   "metadata": {},
   "outputs": [
    {
     "data": {
      "text/plain": [
       "'35건'"
      ]
     },
     "execution_count": 21,
     "metadata": {},
     "output_type": "execute_result"
    }
   ],
   "source": [
    "# 검색결과 건수를 가져오기\n",
    "strong = soup.select('.stations-local-after > p > strong')\n",
    "strong[1].get_text()"
   ]
  },
  {
   "cell_type": "code",
   "execution_count": 22,
   "id": "f5ebcbd5",
   "metadata": {},
   "outputs": [
    {
     "data": {
      "text/plain": [
       "35"
      ]
     },
     "execution_count": 22,
     "metadata": {},
     "output_type": "execute_result"
    }
   ],
   "source": [
    "count = int(strong[1].get_text().replace('건', '').strip())\n",
    "count"
   ]
  },
  {
   "cell_type": "code",
   "execution_count": 23,
   "id": "89f94bb5",
   "metadata": {},
   "outputs": [
    {
     "data": {
      "text/plain": [
       "4"
      ]
     },
     "execution_count": 23,
     "metadata": {},
     "output_type": "execute_result"
    }
   ],
   "source": [
    "import math\n",
    "count = math.ceil(count/10)\n",
    "count"
   ]
  },
  {
   "cell_type": "markdown",
   "id": "da7461b9",
   "metadata": {},
   "source": [
    "# 전체 페이지"
   ]
  },
  {
   "cell_type": "code",
   "execution_count": 9,
   "id": "c623bad1",
   "metadata": {},
   "outputs": [],
   "source": [
    "driver.get(url)\n",
    "time.sleep(1)\n",
    "driver.find_element(By.ID, 'searchKeyword').send_keys('서울')\n",
    "driver.find_element(By.ID, 'fsSearchBtn').click()"
   ]
  },
  {
   "cell_type": "code",
   "execution_count": 11,
   "id": "dab0c00e",
   "metadata": {},
   "outputs": [],
   "source": [
    "import math\n",
    "strong = soup.select('.stations-local-after > p > strong')\n",
    "count = int(strong[1].get_text().replace('건', '').strip())\n",
    "count = math.ceil(count/10)"
   ]
  },
  {
   "cell_type": "code",
   "execution_count": 12,
   "id": "db58acc8",
   "metadata": {},
   "outputs": [],
   "source": [
    "lines = []\n",
    "for i in range(count):\n",
    "    if i >= 1 and i%2 == 0:\n",
    "        driver.find_element(By.CSS_SELECTOR, '.next_page').click()\n",
    "        time.sleep(2)\n",
    "    if i >= 1 and i%2 == 1:\n",
    "        driver.find_element(By.XPATH, '//*[@id=\"listForm\"]/div/section/ul/li[1]/div/div/ul/li[4]/a').click()\n",
    "        time.sleep(2)\n",
    "    soup = BeautifulSoup(driver.page_source, 'html.parser')\n",
    "    lis = soup.select('.stations-list > li')\n",
    "    for li in lis:\n",
    "        name = li.select_one('.title').get_text().strip()\n",
    "        addr = li.find('address').string.strip()\n",
    "        tel = li.select_one('.tel').get_text().strip()\n",
    "        lines.append([name, addr, tel])    "
   ]
  },
  {
   "cell_type": "code",
   "execution_count": 13,
   "id": "7e52d828",
   "metadata": {},
   "outputs": [
    {
     "data": {
      "text/plain": [
       "100"
      ]
     },
     "execution_count": 13,
     "metadata": {},
     "output_type": "execute_result"
    }
   ],
   "source": [
    "len(lines)"
   ]
  },
  {
   "cell_type": "code",
   "execution_count": 14,
   "id": "c720ef48",
   "metadata": {},
   "outputs": [
    {
     "data": {
      "text/html": [
       "<div>\n",
       "<style scoped>\n",
       "    .dataframe tbody tr th:only-of-type {\n",
       "        vertical-align: middle;\n",
       "    }\n",
       "\n",
       "    .dataframe tbody tr th {\n",
       "        vertical-align: top;\n",
       "    }\n",
       "\n",
       "    .dataframe thead th {\n",
       "        text-align: right;\n",
       "    }\n",
       "</style>\n",
       "<table border=\"1\" class=\"dataframe\">\n",
       "  <thead>\n",
       "    <tr style=\"text-align: right;\">\n",
       "      <th></th>\n",
       "      <th>관서명</th>\n",
       "      <th>주소</th>\n",
       "      <th>전화번호</th>\n",
       "    </tr>\n",
       "  </thead>\n",
       "  <tbody>\n",
       "    <tr>\n",
       "      <th>0</th>\n",
       "      <td>동작소방서</td>\n",
       "      <td>서울특별시 동작구 여의대방로16길 55(신대방동)</td>\n",
       "      <td>02-847-1190</td>\n",
       "    </tr>\n",
       "    <tr>\n",
       "      <th>1</th>\n",
       "      <td>서대문소방서</td>\n",
       "      <td>서울특별시 서대문구 연희로 182(연희동)</td>\n",
       "      <td>02-3144-1190</td>\n",
       "    </tr>\n",
       "    <tr>\n",
       "      <th>2</th>\n",
       "      <td>광진소방서</td>\n",
       "      <td>서울특별시 광진구 광나루로 480(구의동)</td>\n",
       "      <td>02-457-0119</td>\n",
       "    </tr>\n",
       "    <tr>\n",
       "      <th>3</th>\n",
       "      <td>송파소방서</td>\n",
       "      <td>서울특별시 송파구 오금로51길 56(마천동)</td>\n",
       "      <td>02-403-2119</td>\n",
       "    </tr>\n",
       "    <tr>\n",
       "      <th>4</th>\n",
       "      <td>양천소방서</td>\n",
       "      <td>서울특별시 양천구 목동서로 180(목동)</td>\n",
       "      <td>02-2655-1119</td>\n",
       "    </tr>\n",
       "    <tr>\n",
       "      <th>...</th>\n",
       "      <td>...</td>\n",
       "      <td>...</td>\n",
       "      <td>...</td>\n",
       "    </tr>\n",
       "    <tr>\n",
       "      <th>95</th>\n",
       "      <td>송파소방서-운동장-119 안전센터</td>\n",
       "      <td>서울특별시 송파구 올림픽로 25 (잠실동)</td>\n",
       "      <td>02-2203-2380</td>\n",
       "    </tr>\n",
       "    <tr>\n",
       "      <th>96</th>\n",
       "      <td>송파소방서-잠실-119 안전센터</td>\n",
       "      <td>서울특별시 송파구 석촌호수로 151 (잠실동)</td>\n",
       "      <td>02-422-0119</td>\n",
       "    </tr>\n",
       "    <tr>\n",
       "      <th>97</th>\n",
       "      <td>송파소방서-방이-119 안전센터</td>\n",
       "      <td>서울특별시 송파구 강동대로 286 (방이동)</td>\n",
       "      <td>02-409-0059</td>\n",
       "    </tr>\n",
       "    <tr>\n",
       "      <th>98</th>\n",
       "      <td>송파소방서-거여-119 안전센터</td>\n",
       "      <td>서울특별시 송파구 마천로 329 (마천동)</td>\n",
       "      <td>02-400-0119</td>\n",
       "    </tr>\n",
       "    <tr>\n",
       "      <th>99</th>\n",
       "      <td>송파소방서-마천-119 안전센터</td>\n",
       "      <td>서울특별시 송파구 오금로51길 56 (마천동)</td>\n",
       "      <td>02-3401-2119</td>\n",
       "    </tr>\n",
       "  </tbody>\n",
       "</table>\n",
       "<p>100 rows × 3 columns</p>\n",
       "</div>"
      ],
      "text/plain": [
       "                   관서명                           주소          전화번호\n",
       "0                동작소방서  서울특별시 동작구 여의대방로16길 55(신대방동)   02-847-1190\n",
       "1               서대문소방서      서울특별시 서대문구 연희로 182(연희동)  02-3144-1190\n",
       "2                광진소방서      서울특별시 광진구 광나루로 480(구의동)   02-457-0119\n",
       "3                송파소방서     서울특별시 송파구 오금로51길 56(마천동)   02-403-2119\n",
       "4                양천소방서       서울특별시 양천구 목동서로 180(목동)  02-2655-1119\n",
       "..                 ...                          ...           ...\n",
       "95  송파소방서-운동장-119 안전센터      서울특별시 송파구 올림픽로 25 (잠실동)  02-2203-2380\n",
       "96   송파소방서-잠실-119 안전센터    서울특별시 송파구 석촌호수로 151 (잠실동)   02-422-0119\n",
       "97   송파소방서-방이-119 안전센터     서울특별시 송파구 강동대로 286 (방이동)   02-409-0059\n",
       "98   송파소방서-거여-119 안전센터      서울특별시 송파구 마천로 329 (마천동)   02-400-0119\n",
       "99   송파소방서-마천-119 안전센터    서울특별시 송파구 오금로51길 56 (마천동)  02-3401-2119\n",
       "\n",
       "[100 rows x 3 columns]"
      ]
     },
     "execution_count": 14,
     "metadata": {},
     "output_type": "execute_result"
    }
   ],
   "source": [
    "df = pd.DataFrame(lines, columns = ['관서명', '주소', '전화번호'])\n",
    "df"
   ]
  },
  {
   "cell_type": "code",
   "execution_count": 15,
   "id": "16508c5f",
   "metadata": {},
   "outputs": [
    {
     "data": {
      "text/plain": [
       "100"
      ]
     },
     "execution_count": 15,
     "metadata": {},
     "output_type": "execute_result"
    }
   ],
   "source": [
    "len(df['관서명'].unique())"
   ]
  },
  {
   "cell_type": "code",
   "execution_count": 16,
   "id": "4a441791",
   "metadata": {},
   "outputs": [],
   "source": [
    "df.to_csv('서울소방서.csv', index=False)"
   ]
  },
  {
   "cell_type": "markdown",
   "id": "47cc6b88",
   "metadata": {},
   "source": [
    "##  카카오 api 사용해서 위도경도 가져오기"
   ]
  },
  {
   "cell_type": "code",
   "execution_count": 28,
   "id": "2e8fd58a",
   "metadata": {},
   "outputs": [],
   "source": [
    "import requests\n",
    "from urllib.parse import quote"
   ]
  },
  {
   "cell_type": "code",
   "execution_count": 29,
   "id": "72dca51f",
   "metadata": {},
   "outputs": [],
   "source": [
    "with open ('kakao.txt') as file:\n",
    "    kakao_key = file.read()"
   ]
  },
  {
   "cell_type": "code",
   "execution_count": 30,
   "id": "db20a029",
   "metadata": {},
   "outputs": [],
   "source": [
    "local_url = 'https://dapi.kakao.com/v2/local/search/address.json'\n",
    "header = {'Authorization':f'KakaoAK {kakao_key}'}"
   ]
  },
  {
   "cell_type": "code",
   "execution_count": 31,
   "id": "850e4a2f",
   "metadata": {},
   "outputs": [
    {
     "name": "stdout",
     "output_type": "stream",
     "text": [
      "은평소방서-수색-119 안전센터\n"
     ]
    }
   ],
   "source": [
    "# 반복문을 통해서 모든 소방청 위도 경도 좌표 구하기\n",
    "lng_list, lat_list = [], []\n",
    "for i in df.index:\n",
    "    url = f'{local_url}?query={quote(df.주소[i])}'\n",
    "    result = requests.get(url, headers=header).json()\n",
    "    try: \n",
    "        lng_list.append(float(result['documents'][0]['x']))\n",
    "        lat_list.append(float(result['documents'][0]['y']))\n",
    "    except:\n",
    "        print(df.관서명[i])"
   ]
  },
  {
   "cell_type": "code",
   "execution_count": 32,
   "id": "05e48fe9",
   "metadata": {},
   "outputs": [
    {
     "data": {
      "text/plain": [
       "30    서울특별시 은평구 수색로 294 (수색동)\n",
       "Name: 주소, dtype: object"
      ]
     },
     "execution_count": 32,
     "metadata": {},
     "output_type": "execute_result"
    }
   ],
   "source": [
    "df[df.관서명.isin(['은평소방서-수색-119 안전센터'])].주소"
   ]
  },
  {
   "cell_type": "code",
   "execution_count": 35,
   "id": "bf0d8a76",
   "metadata": {},
   "outputs": [
    {
     "data": {
      "text/plain": [
       "{'documents': [],\n",
       " 'meta': {'is_end': True, 'pageable_count': 0, 'total_count': 0}}"
      ]
     },
     "execution_count": 35,
     "metadata": {},
     "output_type": "execute_result"
    }
   ],
   "source": [
    "url = f'{local_url}?query={quote(\"서울특별시 은평구 수색로 294\")}'\n",
    "result = requests.get(url, headers=header).json()\n",
    "result"
   ]
  },
  {
   "cell_type": "code",
   "execution_count": 36,
   "id": "306e08af",
   "metadata": {},
   "outputs": [
    {
     "data": {
      "text/plain": [
       "5    서울특별시 은평구 통일로 962(진관동)\n",
       "Name: 주소, dtype: object"
      ]
     },
     "execution_count": 36,
     "metadata": {},
     "output_type": "execute_result"
    }
   ],
   "source": [
    "df[df.관서명.isin(['은평소방서'])].주소"
   ]
  },
  {
   "cell_type": "code",
   "execution_count": 38,
   "id": "c76c541f",
   "metadata": {},
   "outputs": [],
   "source": [
    "df.주소[30] = '서울특별시 은평구 통일로 962'"
   ]
  },
  {
   "cell_type": "code",
   "execution_count": 39,
   "id": "84fc42ad",
   "metadata": {},
   "outputs": [],
   "source": [
    "lng_list, lat_list = [], []\n",
    "for i in df.index:\n",
    "    url = f'{local_url}?query={quote(df.주소[i])}'\n",
    "    result = requests.get(url, headers=header).json()\n",
    "    try: \n",
    "        lng_list.append(float(result['documents'][0]['x']))\n",
    "        lat_list.append(float(result['documents'][0]['y']))\n",
    "    except:\n",
    "        print(df.관서명[i])"
   ]
  },
  {
   "cell_type": "code",
   "execution_count": 40,
   "id": "67230215",
   "metadata": {},
   "outputs": [
    {
     "data": {
      "text/html": [
       "<div>\n",
       "<style scoped>\n",
       "    .dataframe tbody tr th:only-of-type {\n",
       "        vertical-align: middle;\n",
       "    }\n",
       "\n",
       "    .dataframe tbody tr th {\n",
       "        vertical-align: top;\n",
       "    }\n",
       "\n",
       "    .dataframe thead th {\n",
       "        text-align: right;\n",
       "    }\n",
       "</style>\n",
       "<table border=\"1\" class=\"dataframe\">\n",
       "  <thead>\n",
       "    <tr style=\"text-align: right;\">\n",
       "      <th></th>\n",
       "      <th>관서명</th>\n",
       "      <th>주소</th>\n",
       "      <th>전화번호</th>\n",
       "      <th>위도</th>\n",
       "      <th>경도</th>\n",
       "    </tr>\n",
       "  </thead>\n",
       "  <tbody>\n",
       "    <tr>\n",
       "      <th>0</th>\n",
       "      <td>동작소방서</td>\n",
       "      <td>서울특별시 동작구 여의대방로16길 55(신대방동)</td>\n",
       "      <td>02-847-1190</td>\n",
       "      <td>37.494672</td>\n",
       "      <td>126.917719</td>\n",
       "    </tr>\n",
       "    <tr>\n",
       "      <th>1</th>\n",
       "      <td>서대문소방서</td>\n",
       "      <td>서울특별시 서대문구 연희로 182(연희동)</td>\n",
       "      <td>02-3144-1190</td>\n",
       "      <td>37.573205</td>\n",
       "      <td>126.935996</td>\n",
       "    </tr>\n",
       "  </tbody>\n",
       "</table>\n",
       "</div>"
      ],
      "text/plain": [
       "      관서명                           주소          전화번호         위도          경도\n",
       "0   동작소방서  서울특별시 동작구 여의대방로16길 55(신대방동)   02-847-1190  37.494672  126.917719\n",
       "1  서대문소방서      서울특별시 서대문구 연희로 182(연희동)  02-3144-1190  37.573205  126.935996"
      ]
     },
     "execution_count": 40,
     "metadata": {},
     "output_type": "execute_result"
    }
   ],
   "source": [
    "df['위도'] = lat_list\n",
    "df['경도'] = lng_list\n",
    "df.head(2)"
   ]
  },
  {
   "cell_type": "code",
   "execution_count": 41,
   "id": "5c8bcd07",
   "metadata": {},
   "outputs": [],
   "source": [
    "import folium"
   ]
  },
  {
   "cell_type": "code",
   "execution_count": null,
   "id": "b47df11a",
   "metadata": {},
   "outputs": [],
   "source": []
  }
 ],
 "metadata": {
  "kernelspec": {
   "display_name": "Python 3 (ipykernel)",
   "language": "python",
   "name": "python3"
  },
  "language_info": {
   "codemirror_mode": {
    "name": "ipython",
    "version": 3
   },
   "file_extension": ".py",
   "mimetype": "text/x-python",
   "name": "python",
   "nbconvert_exporter": "python",
   "pygments_lexer": "ipython3",
   "version": "3.8.7"
  }
 },
 "nbformat": 4,
 "nbformat_minor": 5
}
