{
 "cells": [
  {
   "cell_type": "markdown",
   "id": "70525e79",
   "metadata": {},
   "source": [
    "# 멜론 Top 100 "
   ]
  },
  {
   "cell_type": "code",
   "execution_count": 1,
   "id": "eb1a5f15",
   "metadata": {},
   "outputs": [],
   "source": [
    "import requests\n",
    "from bs4 import BeautifulSoup\n",
    "url = 'https://www.melon.com/chart/'\n",
    "header = {'User-Agent': 'Mozilla/5.0 (Windows NT 10.0; Win64; x64) AppleWebKit/537.36 (KHTML, like Gecko) Chrome/103.0.0.0 Safari/537.36'}\n",
    "req = requests.get(url, headers=header)\n",
    "soup = BeautifulSoup(req.text, 'html.parser')"
   ]
  },
  {
   "cell_type": "code",
   "execution_count": 3,
   "id": "852282f0",
   "metadata": {},
   "outputs": [
    {
     "data": {
      "text/plain": [
       "101"
      ]
     },
     "execution_count": 3,
     "metadata": {},
     "output_type": "execute_result"
    }
   ],
   "source": [
    "trs = soup.find_all('tr')\n",
    "len(trs)"
   ]
  },
  {
   "cell_type": "code",
   "execution_count": 4,
   "id": "1a6bcf20",
   "metadata": {},
   "outputs": [
    {
     "data": {
      "text/plain": [
       "100"
      ]
     },
     "execution_count": 4,
     "metadata": {},
     "output_type": "execute_result"
    }
   ],
   "source": [
    "trs = soup.select('#frm > div > table > tbody > tr')\n",
    "len(trs)"
   ]
  },
  {
   "cell_type": "code",
   "execution_count": 6,
   "id": "a7384657",
   "metadata": {},
   "outputs": [
    {
     "data": {
      "text/plain": [
       "<tr class=\"lst50\" data-song-no=\"35945927\" id=\"lst50\">\n",
       "<td><div class=\"wrap t_right\"><input class=\"input_check\" name=\"input_check\" title=\"Ditto 곡 선택\" type=\"checkbox\" value=\"35945927\"/></div></td>\n",
       "<td><div class=\"wrap t_center\"><span class=\"rank\">1</span><span class=\"none\">위</span></div></td>\n",
       "<!-- 차트순위 추가 -->\n",
       "<td><div class=\"wrap\">\n",
       "<span class=\"rank_wrap\" title=\"순위 동일\">\n",
       "<span class=\"bullet_icons rank_static\"><span class=\"none\">순위 동일</span></span>\n",
       "<span class=\"none\">0</span>\n",
       "</span>\n",
       "</div></td>\n",
       "<td><div class=\"wrap\">\n",
       "<a class=\"image_typeAll\" href=\"javascript:melon.link.goAlbumDetail('11127145');\" title=\"NewJeans 'OMG'\">\n",
       "<img alt=\"NewJeans 'OMG' - 페이지 이동\" height=\"60\" onerror=\"WEBPOCIMG.defaultAlbumImg(this);\" src=\"https://cdnimg.melon.co.kr/cm2/album/images/111/27/145/11127145_20230102135733_500.jpg/melon/resize/120/quality/80/optimize\" width=\"60\">\n",
       "<span class=\"bg_album_frame\"></span>\n",
       "</img></a>\n",
       "</div></td>\n",
       "<td><div class=\"wrap\">\n",
       "<a class=\"btn button_icons type03 song_info\" href=\"javascript:melon.link.goSongDetail('35945927');\" title=\"Ditto 곡정보\"><span class=\"none\">곡정보</span></a>\n",
       "</div></td>\n",
       "<td><div class=\"wrap\">\n",
       "<div class=\"wrap_song_info\">\n",
       "<div class=\"ellipsis rank01\"><span>\n",
       "<a href=\"javascript:melon.play.playSong('1000002721',35945927);\" title=\"Ditto 재생\">Ditto</a>\n",
       "</span></div><br/>\n",
       "<div class=\"ellipsis rank02\">\n",
       "<a href=\"javascript:melon.link.goArtistDetail('3114174');\" title=\"NewJeans - 페이지 이동\">NewJeans</a><span class=\"checkEllipsis\" style=\"display:none\"><a href=\"javascript:melon.link.goArtistDetail('3114174');\" title=\"NewJeans - 페이지 이동\">NewJeans</a></span>\n",
       "</div>\n",
       "</div>\n",
       "</div></td>\n",
       "<td><div class=\"wrap\">\n",
       "<div class=\"wrap_song_info\">\n",
       "<div class=\"ellipsis rank03\">\n",
       "<a href=\"javascript:melon.link.goAlbumDetail('11127145');\" title=\"NewJeans 'OMG' - 페이지 이동\">NewJeans 'OMG'</a>\n",
       "</div>\n",
       "</div>\n",
       "</div></td>\n",
       "<td><div class=\"wrap\">\n",
       "<button class=\"button_etc like\" data-song-menuid=\"1000002721\" data-song-no=\"35945927\" title=\"Ditto 좋아요\" type=\"button\">\n",
       "<span class=\"odd_span\">좋아요</span>\n",
       "<span class=\"cnt\">\n",
       "<span class=\"none\">총건수</span>\n",
       "\t\t\t\t\t\t\t\t\t\t\t\t0\n",
       "\t\t\t\t\t\t\t\t\t\t\t</span>\n",
       "</button>\n",
       "</div></td>\n",
       "<td><div class=\"wrap t_center\">\n",
       "<button class=\"button_icons play\" onclick=\"melon.play.playSong('1000002721',35945927);\" title=\"듣기\" type=\"button\"><span class=\"none\">듣기</span></button>\n",
       "</div></td>\n",
       "<td><div class=\"wrap t_center\">\n",
       "<button class=\"button_icons scrap\" onclick=\"melon.play.addPlayList('35945927');\" title=\"담기\" type=\"button\"><span class=\"none\">담기</span></button>\n",
       "</div></td>\n",
       "<td><div class=\"wrap t_center\">\n",
       "<button class=\"button_icons download\" onclick=\"melon.buy.goBuyProduct('frm', '35945927', '3C0001', '','0', '1000002721');\" title=\"다운로드\" type=\"button\"><span class=\"none\">다운로드</span></button>\n",
       "</div></td>\n",
       "<td><div class=\"wrap t_center\">\n",
       "<button class=\"button_icons video\" onclick=\"melon.link.goMvDetail('1000002721', '35945927','song');\" title=\"뮤직비디오\" type=\"button\"><span class=\"none\">뮤직비디오</span></button>\n",
       "</div></td>\n",
       "</tr>"
      ]
     },
     "execution_count": 6,
     "metadata": {},
     "output_type": "execute_result"
    }
   ],
   "source": [
    "tr = trs[0]\n",
    "tr"
   ]
  },
  {
   "cell_type": "code",
   "execution_count": 8,
   "id": "322ff195",
   "metadata": {},
   "outputs": [
    {
     "data": {
      "text/plain": [
       "1"
      ]
     },
     "execution_count": 8,
     "metadata": {},
     "output_type": "execute_result"
    }
   ],
   "source": [
    "rank = int(tr.select_one('.rank').get_text().strip())\n",
    "rank"
   ]
  },
  {
   "cell_type": "code",
   "execution_count": 10,
   "id": "40ef5e58",
   "metadata": {},
   "outputs": [
    {
     "data": {
      "text/plain": [
       "'Ditto'"
      ]
     },
     "execution_count": 10,
     "metadata": {},
     "output_type": "execute_result"
    }
   ],
   "source": [
    "tilte = tr.select_one('.ellipsis.rank01').get_text().strip()\n",
    "tilte"
   ]
  },
  {
   "cell_type": "code",
   "execution_count": 11,
   "id": "22558da9",
   "metadata": {},
   "outputs": [
    {
     "data": {
      "text/plain": [
       "'NewJeans'"
      ]
     },
     "execution_count": 11,
     "metadata": {},
     "output_type": "execute_result"
    }
   ],
   "source": [
    "artist = tr.select_one('.ellipsis.rank02 > a').get_text().strip()\n",
    "artist"
   ]
  },
  {
   "cell_type": "code",
   "execution_count": 12,
   "id": "8e188d89",
   "metadata": {},
   "outputs": [
    {
     "data": {
      "text/plain": [
       "\"NewJeans 'OMG'\""
      ]
     },
     "execution_count": 12,
     "metadata": {},
     "output_type": "execute_result"
    }
   ],
   "source": [
    "album = tr.select_one('.ellipsis.rank03').get_text().strip()\n",
    "album"
   ]
  },
  {
   "cell_type": "code",
   "execution_count": 13,
   "id": "1ae81932",
   "metadata": {},
   "outputs": [
    {
     "data": {
      "text/plain": [
       "'총건수\\r\\n\\t\\t\\t\\t\\t\\t\\t\\t\\t\\t\\t\\t0'"
      ]
     },
     "execution_count": 13,
     "metadata": {},
     "output_type": "execute_result"
    }
   ],
   "source": [
    "# like는 selenium을 활요해야함\n",
    "# like = tr.select_one('.cnt').get_text().strip()\n",
    "# like"
   ]
  },
  {
   "cell_type": "code",
   "execution_count": 14,
   "id": "f465b21d",
   "metadata": {},
   "outputs": [],
   "source": [
    "line = []\n",
    "for tr in trs:\n",
    "    rank = int(tr.select_one('.rank').get_text().strip())\n",
    "    title = tr.select_one('.ellipsis.rank01').get_text().strip()\n",
    "    artist = tr.select_one('.ellipsis.rank02 > a').get_text().strip()\n",
    "    album = tr.select_one('.ellipsis.rank03').get_text().strip()\n",
    "    line.append([rank, title, artist, album])"
   ]
  },
  {
   "cell_type": "code",
   "execution_count": 17,
   "id": "65909791",
   "metadata": {},
   "outputs": [
    {
     "data": {
      "text/html": [
       "<div>\n",
       "<style scoped>\n",
       "    .dataframe tbody tr th:only-of-type {\n",
       "        vertical-align: middle;\n",
       "    }\n",
       "\n",
       "    .dataframe tbody tr th {\n",
       "        vertical-align: top;\n",
       "    }\n",
       "\n",
       "    .dataframe thead th {\n",
       "        text-align: right;\n",
       "    }\n",
       "</style>\n",
       "<table border=\"1\" class=\"dataframe\">\n",
       "  <thead>\n",
       "    <tr style=\"text-align: right;\">\n",
       "      <th></th>\n",
       "      <th>순위</th>\n",
       "      <th>제목</th>\n",
       "      <th>가수</th>\n",
       "      <th>앨범</th>\n",
       "    </tr>\n",
       "  </thead>\n",
       "  <tbody>\n",
       "    <tr>\n",
       "      <th>95</th>\n",
       "      <td>96</td>\n",
       "      <td>Off My Face</td>\n",
       "      <td>Justin Bieber</td>\n",
       "      <td>Justice (The Complete Edition)</td>\n",
       "    </tr>\n",
       "    <tr>\n",
       "      <th>96</th>\n",
       "      <td>97</td>\n",
       "      <td>나의 목소리로</td>\n",
       "      <td>김호중</td>\n",
       "      <td>나의 목소리로</td>\n",
       "    </tr>\n",
       "    <tr>\n",
       "      <th>97</th>\n",
       "      <td>98</td>\n",
       "      <td>이 소설의 끝을 다시 써보려 해</td>\n",
       "      <td>테이</td>\n",
       "      <td>이 소설의 끝을 다시 써보려 해</td>\n",
       "    </tr>\n",
       "    <tr>\n",
       "      <th>98</th>\n",
       "      <td>99</td>\n",
       "      <td>문 (Moon)</td>\n",
       "      <td>NCT DREAM</td>\n",
       "      <td>Candy - Winter Special Mini Album</td>\n",
       "    </tr>\n",
       "    <tr>\n",
       "      <th>99</th>\n",
       "      <td>100</td>\n",
       "      <td>신호등</td>\n",
       "      <td>이무진</td>\n",
       "      <td>신호등</td>\n",
       "    </tr>\n",
       "  </tbody>\n",
       "</table>\n",
       "</div>"
      ],
      "text/plain": [
       "     순위                 제목             가수                                 앨범\n",
       "95   96        Off My Face  Justin Bieber     Justice (The Complete Edition)\n",
       "96   97            나의 목소리로            김호중                            나의 목소리로\n",
       "97   98  이 소설의 끝을 다시 써보려 해             테이                  이 소설의 끝을 다시 써보려 해\n",
       "98   99           문 (Moon)      NCT DREAM  Candy - Winter Special Mini Album\n",
       "99  100                신호등            이무진                                신호등"
      ]
     },
     "execution_count": 17,
     "metadata": {},
     "output_type": "execute_result"
    }
   ],
   "source": [
    "import pandas as pd\n",
    "df = pd.DataFrame(line, columns=['순위', '제목', '가수', '앨범'])\n",
    "df.tail()"
   ]
  },
  {
   "cell_type": "code",
   "execution_count": null,
   "id": "10f8e7ca",
   "metadata": {},
   "outputs": [],
   "source": []
  }
 ],
 "metadata": {
  "kernelspec": {
   "display_name": "Python 3 (ipykernel)",
   "language": "python",
   "name": "python3"
  },
  "language_info": {
   "codemirror_mode": {
    "name": "ipython",
    "version": 3
   },
   "file_extension": ".py",
   "mimetype": "text/x-python",
   "name": "python",
   "nbconvert_exporter": "python",
   "pygments_lexer": "ipython3",
   "version": "3.8.7"
  }
 },
 "nbformat": 4,
 "nbformat_minor": 5
}
