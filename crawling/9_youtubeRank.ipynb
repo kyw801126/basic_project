{
 "cells": [
  {
   "cell_type": "markdown",
   "id": "8d7c4db5",
   "metadata": {},
   "source": [
    "# YouTube Ranking"
   ]
  },
  {
   "cell_type": "code",
   "execution_count": 1,
   "id": "9bec94ea",
   "metadata": {},
   "outputs": [],
   "source": [
    "from bs4 import BeautifulSoup\n",
    "import pandas as pd\n",
    "import time\n",
    "from selenium import webdriver\n",
    "from selenium.webdriver.common.keys import Keys\n",
    "from selenium.webdriver.common.by import By"
   ]
  },
  {
   "cell_type": "code",
   "execution_count": 2,
   "id": "83de1d58",
   "metadata": {},
   "outputs": [],
   "source": [
    "url = 'https://youtube-rank.com/board/bbs/board.php?bo_table=youtube'\n",
    "driver = webdriver.Chrome('chromedriver')\n",
    "driver.get(url)\n",
    "time.sleep(2)"
   ]
  },
  {
   "cell_type": "markdown",
   "id": "03f30839",
   "metadata": {},
   "source": [
    "* step1, 2"
   ]
  },
  {
   "cell_type": "code",
   "execution_count": 4,
   "id": "fdb3c3a9",
   "metadata": {},
   "outputs": [
    {
     "data": {
      "text/plain": [
       "100"
      ]
     },
     "execution_count": 4,
     "metadata": {},
     "output_type": "execute_result"
    }
   ],
   "source": [
    "soup = BeautifulSoup(driver.page_source, 'html.parser')\n",
    "trs = soup.select('tr.aos-init')\n",
    "len(trs)"
   ]
  },
  {
   "cell_type": "markdown",
   "id": "82b893c4",
   "metadata": {},
   "source": [
    "* step3"
   ]
  },
  {
   "cell_type": "code",
   "execution_count": 5,
   "id": "c90b15cb",
   "metadata": {},
   "outputs": [
    {
     "data": {
      "text/plain": [
       "'1'"
      ]
     },
     "execution_count": 5,
     "metadata": {},
     "output_type": "execute_result"
    }
   ],
   "source": [
    "#랭크정보\n",
    "tr = trs[0]\n",
    "tr.select_one('.rank').get_text().strip()"
   ]
  },
  {
   "cell_type": "code",
   "execution_count": 17,
   "id": "a2e3800a",
   "metadata": {},
   "outputs": [
    {
     "data": {
      "text/plain": [
       "'게임'"
      ]
     },
     "execution_count": 17,
     "metadata": {},
     "output_type": "execute_result"
    }
   ],
   "source": [
    "#카테고리 정보\n",
    "tr.select_one('.category').get_text().strip()[1:-1]"
   ]
  },
  {
   "cell_type": "code",
   "execution_count": 7,
   "id": "a1c4c5ba",
   "metadata": {},
   "outputs": [
    {
     "data": {
      "text/plain": [
       "'BLACKPINK'"
      ]
     },
     "execution_count": 7,
     "metadata": {},
     "output_type": "execute_result"
    }
   ],
   "source": [
    "#채널명\n",
    "tr.select_one('.subject a').get_text().strip()"
   ]
  },
  {
   "cell_type": "code",
   "execution_count": 8,
   "id": "1bf5ecc3",
   "metadata": {},
   "outputs": [
    {
     "data": {
      "text/plain": [
       "('8380만', '286억1398만', '466개')"
      ]
     },
     "execution_count": 8,
     "metadata": {},
     "output_type": "execute_result"
    }
   ],
   "source": [
    "#구독자, 조회수, 비디오갯수\n",
    "subscriber = tr.select_one('.subscriber_cnt').get_text().strip()\n",
    "view = tr.select_one('.view_cnt').get_text().strip()\n",
    "video = tr.select_one('.video_cnt').get_text().strip()\n",
    "subscriber, view, video"
   ]
  },
  {
   "cell_type": "code",
   "execution_count": 31,
   "id": "b3105c11",
   "metadata": {},
   "outputs": [],
   "source": [
    "lines = []\n",
    "for tr in trs:\n",
    "    rank = tr.select_one('.rank').get_text().strip()\n",
    "    category = tr.select_one('.category').get_text().strip()[1:-1]\n",
    "    chennel = tr.select_one('.subject a').get_text().strip()\n",
    "    subscriber = tr.select_one('.subscriber_cnt').get_text().strip()\n",
    "    view = tr.select_one('.view_cnt').get_text().strip()\n",
    "    video = tr.select_one('.video_cnt').get_text().strip()\n",
    "    lines.append([rank, category, chennel, subscriber, view, video])\n"
   ]
  },
  {
   "cell_type": "code",
   "execution_count": 32,
   "id": "49ddbd7c",
   "metadata": {},
   "outputs": [],
   "source": [
    "df = pd.DataFrame(lines, columns = ['순위', '카테고리', '채널', '구독자수', '조회수', '비디오수'])"
   ]
  },
  {
   "cell_type": "code",
   "execution_count": 33,
   "id": "4c32cb58",
   "metadata": {},
   "outputs": [
    {
     "data": {
      "text/html": [
       "<div>\n",
       "<style scoped>\n",
       "    .dataframe tbody tr th:only-of-type {\n",
       "        vertical-align: middle;\n",
       "    }\n",
       "\n",
       "    .dataframe tbody tr th {\n",
       "        vertical-align: top;\n",
       "    }\n",
       "\n",
       "    .dataframe thead th {\n",
       "        text-align: right;\n",
       "    }\n",
       "</style>\n",
       "<table border=\"1\" class=\"dataframe\">\n",
       "  <thead>\n",
       "    <tr style=\"text-align: right;\">\n",
       "      <th></th>\n",
       "      <th>순위</th>\n",
       "      <th>카테고리</th>\n",
       "      <th>채널</th>\n",
       "      <th>구독자수</th>\n",
       "      <th>조회수</th>\n",
       "      <th>비디오수</th>\n",
       "    </tr>\n",
       "  </thead>\n",
       "  <tbody>\n",
       "    <tr>\n",
       "      <th>0</th>\n",
       "      <td>1</td>\n",
       "      <td>음악/댄스/가수</td>\n",
       "      <td>BLACKPINK</td>\n",
       "      <td>8380만</td>\n",
       "      <td>286억1398만</td>\n",
       "      <td>466개</td>\n",
       "    </tr>\n",
       "    <tr>\n",
       "      <th>1</th>\n",
       "      <td>2</td>\n",
       "      <td>음악/댄스/가수</td>\n",
       "      <td>BANGTANTV</td>\n",
       "      <td>7300만</td>\n",
       "      <td>191억4327만</td>\n",
       "      <td>2,086개</td>\n",
       "    </tr>\n",
       "    <tr>\n",
       "      <th>2</th>\n",
       "      <td>3</td>\n",
       "      <td>음악/댄스/가수</td>\n",
       "      <td>HYBE LABELS</td>\n",
       "      <td>6950만</td>\n",
       "      <td>258억4674만</td>\n",
       "      <td>1,065개</td>\n",
       "    </tr>\n",
       "    <tr>\n",
       "      <th>3</th>\n",
       "      <td>4</td>\n",
       "      <td>음악/댄스/가수</td>\n",
       "      <td>SMTOWN</td>\n",
       "      <td>3130만</td>\n",
       "      <td>262억1822만</td>\n",
       "      <td>4,052개</td>\n",
       "    </tr>\n",
       "    <tr>\n",
       "      <th>4</th>\n",
       "      <td>5</td>\n",
       "      <td>키즈/어린이</td>\n",
       "      <td>Boram Tube Vlog [보람튜브 브이로그]</td>\n",
       "      <td>2650만</td>\n",
       "      <td>110억5288만</td>\n",
       "      <td>223개</td>\n",
       "    </tr>\n",
       "    <tr>\n",
       "      <th>...</th>\n",
       "      <td>...</td>\n",
       "      <td>...</td>\n",
       "      <td>...</td>\n",
       "      <td>...</td>\n",
       "      <td>...</td>\n",
       "      <td>...</td>\n",
       "    </tr>\n",
       "    <tr>\n",
       "      <th>95</th>\n",
       "      <td>96</td>\n",
       "      <td>TV/방송</td>\n",
       "      <td>JTBC Drama</td>\n",
       "      <td>469만</td>\n",
       "      <td>50억8639만</td>\n",
       "      <td>27,000개</td>\n",
       "    </tr>\n",
       "    <tr>\n",
       "      <th>96</th>\n",
       "      <td>98</td>\n",
       "      <td>키즈/어린이</td>\n",
       "      <td>CoCosToy 꼬꼬스토이</td>\n",
       "      <td>467만</td>\n",
       "      <td>28억7649만</td>\n",
       "      <td>656개</td>\n",
       "    </tr>\n",
       "    <tr>\n",
       "      <th>97</th>\n",
       "      <td>97</td>\n",
       "      <td>음식/요리/레시피</td>\n",
       "      <td>Cooking tree 쿠킹트리</td>\n",
       "      <td>467만</td>\n",
       "      <td>4억6943만</td>\n",
       "      <td>1,410개</td>\n",
       "    </tr>\n",
       "    <tr>\n",
       "      <th>98</th>\n",
       "      <td>99</td>\n",
       "      <td>음식/요리/레시피</td>\n",
       "      <td>까니짱 [ G-NI : 蟹ちゃん]</td>\n",
       "      <td>465만</td>\n",
       "      <td>13억5018만</td>\n",
       "      <td>719개</td>\n",
       "    </tr>\n",
       "    <tr>\n",
       "      <th>99</th>\n",
       "      <td>100</td>\n",
       "      <td>게임</td>\n",
       "      <td>EA SPORTS FIFA</td>\n",
       "      <td>454만</td>\n",
       "      <td>8억3879만</td>\n",
       "      <td>803개</td>\n",
       "    </tr>\n",
       "  </tbody>\n",
       "</table>\n",
       "<p>100 rows × 6 columns</p>\n",
       "</div>"
      ],
      "text/plain": [
       "     순위       카테고리                           채널   구독자수        조회수     비디오수\n",
       "0     1   음악/댄스/가수                    BLACKPINK  8380만  286억1398만     466개\n",
       "1     2   음악/댄스/가수                    BANGTANTV  7300만  191억4327만   2,086개\n",
       "2     3   음악/댄스/가수                  HYBE LABELS  6950만  258억4674만   1,065개\n",
       "3     4   음악/댄스/가수                       SMTOWN  3130만  262억1822만   4,052개\n",
       "4     5     키즈/어린이  Boram Tube Vlog [보람튜브 브이로그]  2650만  110억5288만     223개\n",
       "..  ...        ...                          ...    ...        ...      ...\n",
       "95   96      TV/방송                   JTBC Drama   469만   50억8639만  27,000개\n",
       "96   98     키즈/어린이               CoCosToy 꼬꼬스토이   467만   28억7649만     656개\n",
       "97   97  음식/요리/레시피            Cooking tree 쿠킹트리   467만    4억6943만   1,410개\n",
       "98   99  음식/요리/레시피           까니짱 [ G-NI : 蟹ちゃん]   465만   13억5018만     719개\n",
       "99  100         게임               EA SPORTS FIFA   454만    8억3879만     803개\n",
       "\n",
       "[100 rows x 6 columns]"
      ]
     },
     "execution_count": 33,
     "metadata": {},
     "output_type": "execute_result"
    }
   ],
   "source": [
    "df"
   ]
  },
  {
   "cell_type": "code",
   "execution_count": 37,
   "id": "5ef5f0c9",
   "metadata": {},
   "outputs": [],
   "source": [
    "# 286억1398만 -> 28,613,980,000\n",
    "def convert_unit(s):\n",
    "    s = s.replace('억', '').replace('개', '').replace(',', '').replace('만', '0000')\n",
    "    return f'{int(s):,d}'"
   ]
  },
  {
   "cell_type": "code",
   "execution_count": 38,
   "id": "c1995cd8",
   "metadata": {},
   "outputs": [
    {
     "data": {
      "text/plain": [
       "'28,613,980,000'"
      ]
     },
     "execution_count": 38,
     "metadata": {},
     "output_type": "execute_result"
    }
   ],
   "source": [
    "convert_unit('286억1398만')"
   ]
  },
  {
   "cell_type": "code",
   "execution_count": 28,
   "id": "91dee6f4",
   "metadata": {},
   "outputs": [],
   "source": [
    "# df['구독자수'] = df['구독자수'].apply(convert_unit)\n",
    "# # , 조회수, 비디오수"
   ]
  },
  {
   "cell_type": "code",
   "execution_count": 39,
   "id": "c1a41de9",
   "metadata": {
    "collapsed": true
   },
   "outputs": [
    {
     "data": {
      "text/html": [
       "<div>\n",
       "<style scoped>\n",
       "    .dataframe tbody tr th:only-of-type {\n",
       "        vertical-align: middle;\n",
       "    }\n",
       "\n",
       "    .dataframe tbody tr th {\n",
       "        vertical-align: top;\n",
       "    }\n",
       "\n",
       "    .dataframe thead th {\n",
       "        text-align: right;\n",
       "    }\n",
       "</style>\n",
       "<table border=\"1\" class=\"dataframe\">\n",
       "  <thead>\n",
       "    <tr style=\"text-align: right;\">\n",
       "      <th></th>\n",
       "      <th>순위</th>\n",
       "      <th>카테고리</th>\n",
       "      <th>채널</th>\n",
       "      <th>구독자수</th>\n",
       "      <th>조회수</th>\n",
       "      <th>비디오수</th>\n",
       "    </tr>\n",
       "  </thead>\n",
       "  <tbody>\n",
       "    <tr>\n",
       "      <th>0</th>\n",
       "      <td>1</td>\n",
       "      <td>음악/댄스/가수</td>\n",
       "      <td>BLACKPINK</td>\n",
       "      <td>83,800,000</td>\n",
       "      <td>28,613,980,000</td>\n",
       "      <td>466</td>\n",
       "    </tr>\n",
       "    <tr>\n",
       "      <th>1</th>\n",
       "      <td>2</td>\n",
       "      <td>음악/댄스/가수</td>\n",
       "      <td>BANGTANTV</td>\n",
       "      <td>73,000,000</td>\n",
       "      <td>19,143,270,000</td>\n",
       "      <td>2,086</td>\n",
       "    </tr>\n",
       "    <tr>\n",
       "      <th>2</th>\n",
       "      <td>3</td>\n",
       "      <td>음악/댄스/가수</td>\n",
       "      <td>HYBE LABELS</td>\n",
       "      <td>69,500,000</td>\n",
       "      <td>25,846,740,000</td>\n",
       "      <td>1,065</td>\n",
       "    </tr>\n",
       "    <tr>\n",
       "      <th>3</th>\n",
       "      <td>4</td>\n",
       "      <td>음악/댄스/가수</td>\n",
       "      <td>SMTOWN</td>\n",
       "      <td>31,300,000</td>\n",
       "      <td>26,218,220,000</td>\n",
       "      <td>4,052</td>\n",
       "    </tr>\n",
       "    <tr>\n",
       "      <th>4</th>\n",
       "      <td>5</td>\n",
       "      <td>키즈/어린이</td>\n",
       "      <td>Boram Tube Vlog [보람튜브 브이로그]</td>\n",
       "      <td>26,500,000</td>\n",
       "      <td>11,052,880,000</td>\n",
       "      <td>223</td>\n",
       "    </tr>\n",
       "  </tbody>\n",
       "</table>\n",
       "</div>"
      ],
      "text/plain": [
       "  순위      카테고리                           채널        구독자수             조회수   비디오수\n",
       "0  1  음악/댄스/가수                    BLACKPINK  83,800,000  28,613,980,000    466\n",
       "1  2  음악/댄스/가수                    BANGTANTV  73,000,000  19,143,270,000  2,086\n",
       "2  3  음악/댄스/가수                  HYBE LABELS  69,500,000  25,846,740,000  1,065\n",
       "3  4  음악/댄스/가수                       SMTOWN  31,300,000  26,218,220,000  4,052\n",
       "4  5    키즈/어린이  Boram Tube Vlog [보람튜브 브이로그]  26,500,000  11,052,880,000    223"
      ]
     },
     "execution_count": 39,
     "metadata": {},
     "output_type": "execute_result"
    }
   ],
   "source": [
    "for column in df.columns[3:]:\n",
    "    df[column] = df[column].apply(convert_unit)\n",
    "df.head()"
   ]
  },
  {
   "cell_type": "markdown",
   "id": "e64cbb79",
   "metadata": {},
   "source": [
    "* 모든페이지"
   ]
  },
  {
   "cell_type": "code",
   "execution_count": null,
   "id": "259a6355",
   "metadata": {},
   "outputs": [],
   "source": [
    "from tqdm.notebook import tqdm"
   ]
  },
  {
   "cell_type": "code",
   "execution_count": null,
   "id": "59b35bce",
   "metadata": {},
   "outputs": [],
   "source": [
    "lines = []\n",
    "for page in tqdm(range(1,11)):\n",
    "    url = 'https://youtube-rank.com/board/bbs/board.php?bo_table=youtube&page='+str(page)\n",
    "    driver.get(url)\n",
    "    time.sleep(2)\n",
    "    soup = BeautifulSoup(driver.page_source, 'html.parser')\n",
    "    trs = soup.select('tr.aos-init')\n",
    "    \n",
    "    for tr in trs:\n",
    "        rank = int(tr.select_one('.rank').get_text().strip())\n",
    "        category = tr.select_one('.category').get_text().strip()[1:-1]\n",
    "        channel = tr.select_one('.subject a').get_text().strip()\n",
    "        subscriber = tr.select_one('.subscriber_cnt').get_text().strip()\n",
    "        view = tr.select_one('.view_cnt').get_text().strip()\n",
    "        video = tr.select_one('.video_cnt').get_text().strip()\n",
    "        lines.append([rank, category, channel, subscriber, view, video])"
   ]
  },
  {
   "cell_type": "code",
   "execution_count": null,
   "id": "8f9748cd",
   "metadata": {},
   "outputs": [],
   "source": [
    "df = pd.DataFrame(lines, columns=['순위','카테고리','채널','구독자수','조회수','비디오수'])\n",
    "for column in df.columns[3:]:\n",
    "    df[column] = df[column].apply(convert_unit)\n",
    "df.head()"
   ]
  },
  {
   "cell_type": "code",
   "execution_count": null,
   "id": "436cf792",
   "metadata": {},
   "outputs": [],
   "source": [
    "driver.close()"
   ]
  },
  {
   "cell_type": "code",
   "execution_count": null,
   "id": "b6e0f191",
   "metadata": {},
   "outputs": [],
   "source": [
    "df.to_csv('YouTube랭킹.csv', index=False)"
   ]
  }
 ],
 "metadata": {
  "kernelspec": {
   "display_name": "Python 3 (ipykernel)",
   "language": "python",
   "name": "python3"
  },
  "language_info": {
   "codemirror_mode": {
    "name": "ipython",
    "version": 3
   },
   "file_extension": ".py",
   "mimetype": "text/x-python",
   "name": "python",
   "nbconvert_exporter": "python",
   "pygments_lexer": "ipython3",
   "version": "3.8.7"
  }
 },
 "nbformat": 4,
 "nbformat_minor": 5
}
