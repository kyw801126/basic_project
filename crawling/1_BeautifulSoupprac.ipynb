{
 "cells": [
  {
   "cell_type": "code",
   "execution_count": 1,
   "id": "2bb27c4d",
   "metadata": {},
   "outputs": [],
   "source": [
    "from bs4 import BeautifulSoup\n",
    "import requests"
   ]
  },
  {
   "cell_type": "code",
   "execution_count": 4,
   "id": "8b8e27e0",
   "metadata": {},
   "outputs": [],
   "source": [
    "with open('00.Example.html', encoding='utf8') as f:\n",
    "    soup = BeautifulSoup(f, 'html.parser')"
   ]
  },
  {
   "cell_type": "code",
   "execution_count": 2,
   "id": "042757ba",
   "metadata": {},
   "outputs": [],
   "source": [
    "url = 'https://crawlingstudy-dd3c9.web.app/01/'\n",
    "response = requests.get(url)\n",
    "soup = BeautifulSoup(response.text, 'html.parser')"
   ]
  },
  {
   "cell_type": "code",
   "execution_count": 4,
   "id": "6be33707",
   "metadata": {
    "collapsed": true
   },
   "outputs": [
    {
     "data": {
      "text/plain": [
       "<!DOCTYPE html>\n",
       "\n",
       "<html>\n",
       "<head>\n",
       "<title>크롤링 연습사이트 01</title>\n",
       "</head>\n",
       "<body>\n",
       "<h1>저의 첫 웹사이트 오신것을 환영합니다.</h1>\n",
       "<h1 title=\"welcome\">인사이트캠퍼스.</h1>\n",
       "<h2>이곳은 크롤링 연습을 위한 웹사이트입니다.</h2>\n",
       "<table border=\"1\">\n",
       "<thead>\n",
       "<tr>\n",
       "<th class=\"tablehead\">이름</th>\n",
       "<th class=\"tablehead\">나이</th>\n",
       "</tr>\n",
       "</thead>\n",
       "<tbody>\n",
       "<tr>\n",
       "<td>이몽룡</td>\n",
       "<td>34</td>\n",
       "</tr>\n",
       "<tr>\n",
       "<td>홍길동</td>\n",
       "<td>23</td>\n",
       "</tr>\n",
       "</tbody>\n",
       "</table>\n",
       "<p id=\"hello\">\n",
       "    이탈리아 요리의 시작은 기원전 4세기로 거슬러 올라갈 수 있다. 대항해시대를 거치면서 아메리카 대륙에서 감자·토마토·후추·옥수수 등이 유입되어 그 종류와 풍미가 다양해졌고 현대에 이르러서는 피자와 파스타 등 많은 이탈리아 요리가 널리 퍼지게 되었다.\n",
       "</p>\n",
       "<p id=\"cook\">\n",
       "    전통적인 요리법이나 양식은 상당한 차이가 있지만, 이탈리아 요리는 다른 국가의 요리 문화에서 다양한 영감을 줄 만큼 다양하고 혁신적인 것으로 평가되고 있다. 각 지방마다 고유의 특색이 있어 그 양식도 다양하지만 크게 북부와 남부로 나눌 수 있다. 다른 나라와 국경을 맞대고 있던 북부 지방은 산업화되어 경제적으로 풍족하고 농업이 발달해 쌀이 풍부해 유제품이 다양한 반면 경제적으로 침체되었던 남부 지방은 올리브와 토마토, 모차렐라 치즈가 유명하고 특별히 해산물을 활용한 요리가 많다. 식재료와 치즈 등의 차이는 파스타의 종류와 소스와 수프 등도 다름을 의미한다.\n",
       "</p>\n",
       "<a href=\"01.html\">1페이지 바로가기</a>\n",
       "<a href=\"02.html\">2페이지 바로가기</a>\n",
       "<a href=\"03.html\">3페이지 바로가기</a>\n",
       "<a href=\"04.html\">4페이지 바로가기</a>\n",
       "</body>\n",
       "</html>"
      ]
     },
     "execution_count": 4,
     "metadata": {},
     "output_type": "execute_result"
    }
   ],
   "source": [
    "soup"
   ]
  },
  {
   "cell_type": "code",
   "execution_count": 10,
   "id": "79192e5d",
   "metadata": {},
   "outputs": [
    {
     "data": {
      "text/plain": [
       "[<th class=\"tablehead\">이름</th>, <th class=\"tablehead\">나이</th>]"
      ]
     },
     "execution_count": 10,
     "metadata": {},
     "output_type": "execute_result"
    }
   ],
   "source": [
    "soup.find('table').find_all('th')"
   ]
  },
  {
   "cell_type": "code",
   "execution_count": 13,
   "id": "d304f5df",
   "metadata": {},
   "outputs": [],
   "source": [
    "key = []\n",
    "value = []\n",
    "\n",
    "for element in soup.find('table').find_all('th'):\n",
    "    key.append(element.get_text())"
   ]
  },
  {
   "cell_type": "code",
   "execution_count": 20,
   "id": "87684089",
   "metadata": {},
   "outputs": [
    {
     "data": {
      "text/plain": [
       "[<tr>\n",
       " <td>이몽룡</td>\n",
       " <td>34</td>\n",
       " </tr>,\n",
       " <tr>\n",
       " <td>홍길동</td>\n",
       " <td>23</td>\n",
       " </tr>]"
      ]
     },
     "execution_count": 20,
     "metadata": {},
     "output_type": "execute_result"
    }
   ],
   "source": [
    "soup.find('table').find('tbody').find_all('tr')"
   ]
  },
  {
   "cell_type": "code",
   "execution_count": 23,
   "id": "0ca4d986",
   "metadata": {},
   "outputs": [],
   "source": [
    "for element in soup.find('table').find('tbody').find_all('tr'):\n",
    "    temp = []\n",
    "    for td_element in element.find_all('td'):\n",
    "        temp.append(td_element.text)\n",
    "    value.append(dict(zip(key, temp)))"
   ]
  },
  {
   "cell_type": "code",
   "execution_count": 24,
   "id": "ea7730d1",
   "metadata": {},
   "outputs": [
    {
     "data": {
      "text/plain": [
       "[{'이름': '이몽룡', '나이': '34'}, {'이름': '홍길동', '나이': '23'}]"
      ]
     },
     "execution_count": 24,
     "metadata": {},
     "output_type": "execute_result"
    }
   ],
   "source": [
    "value"
   ]
  },
  {
   "cell_type": "code",
   "execution_count": 26,
   "id": "6df1f62c",
   "metadata": {},
   "outputs": [],
   "source": [
    "atag = soup.find_all('a')"
   ]
  },
  {
   "cell_type": "code",
   "execution_count": 30,
   "id": "ffcbd6cf",
   "metadata": {},
   "outputs": [
    {
     "data": {
      "text/plain": [
       "'01.html'"
      ]
     },
     "execution_count": 30,
     "metadata": {},
     "output_type": "execute_result"
    }
   ],
   "source": [
    "atag[0]['href']"
   ]
  },
  {
   "cell_type": "code",
   "execution_count": 31,
   "id": "20e2dfd6",
   "metadata": {
    "scrolled": true
   },
   "outputs": [
    {
     "data": {
      "text/plain": [
       "'01.html'"
      ]
     },
     "execution_count": 31,
     "metadata": {},
     "output_type": "execute_result"
    }
   ],
   "source": [
    "atag[0].attrs['href']"
   ]
  },
  {
   "cell_type": "code",
   "execution_count": 45,
   "id": "7596a83b",
   "metadata": {},
   "outputs": [],
   "source": [
    "for i in soup.find_all('a'):\n",
    "    response = requests.get('https://crawlingstudy-dd3c9.web.app/01/'+ i.attrs['href'])\n",
    "    soup = BeautifulSoup(response.text, 'html.parser')\n",
    "    print(soup.find('p').text.strip())"
   ]
  },
  {
   "cell_type": "code",
   "execution_count": 46,
   "id": "ac57802d",
   "metadata": {},
   "outputs": [],
   "source": [
    "url = 'https://crawlingstudy-dd3c9.web.app/03/'\n",
    "response = requests.get(url)\n",
    "soup = BeautifulSoup(response.text, 'html.parser')"
   ]
  },
  {
   "cell_type": "code",
   "execution_count": 48,
   "id": "1fb0f6cd",
   "metadata": {},
   "outputs": [
    {
     "name": "stdout",
     "output_type": "stream",
     "text": [
      "[['써니전자', '5,000'], ['삼성전자', '55,200'], ['안랩', '81,000'], ['케이엠더블..', '57,300'], ['피피아이', '12,600'], ['KT&G', '92,500'], ['삼성전자우', '45,600'], ['대양금속', '10,550'], ['SK하이닉스', '94,700'], ['SK텔레콤', '234,000']]\n"
     ]
    }
   ],
   "source": [
    "popular = []\n",
    "major = []\n",
    "for item in soup.select('#popularItemList > li'):\n",
    "#     print(item)\n",
    "    popular.append([item.select_one('a').text, item.select_one('span').text])\n",
    "print(popular)"
   ]
  },
  {
   "cell_type": "code",
   "execution_count": 49,
   "id": "464d649e",
   "metadata": {},
   "outputs": [
    {
     "name": "stdout",
     "output_type": "stream",
     "text": [
      "[['다우산업', '28,647.43'], ['나스닥', '9,015.03'], ['홍콩H', '11,320.56'], ['상해종합', '3,085.20'], ['니케이225', '23,656.62']]\n"
     ]
    }
   ],
   "source": [
    "for item in soup.select('.lst_major > li'):\n",
    "    major.append([item.select_one('a').text, item.select_one('span').text])\n",
    "print(major)"
   ]
  },
  {
   "cell_type": "code",
   "execution_count": 50,
   "id": "1edf1299",
   "metadata": {},
   "outputs": [],
   "source": [
    "popular = []\n",
    "major = []\n",
    "for item in soup.select('#popularItemList li'):\n",
    "    if item.select_one('img').attrs['alt'] == '상한':\n",
    "        popular.append([item.select_one('a').text, item.select_one('span').text])\n",
    " \n",
    "for item in soup.select('.lst_major li'):\n",
    "    if item.select_one('img').attrs['alt'] == '상한':\n",
    "        major.append([item.select_one('a').text, item.select_one('span').text])\n",
    " "
   ]
  },
  {
   "cell_type": "code",
   "execution_count": 51,
   "id": "30a3031a",
   "metadata": {},
   "outputs": [
    {
     "name": "stdout",
     "output_type": "stream",
     "text": [
      "[['써니전자', '5,000'], ['피피아이', '12,600']]\n",
      "[['다우산업', '28,647.43'], ['나스닥', '9,015.03'], ['홍콩H', '11,320.56'], ['상해종합', '3,085.20']]\n"
     ]
    }
   ],
   "source": [
    "print(popular)\n",
    "print(major)"
   ]
  },
  {
   "cell_type": "code",
   "execution_count": 52,
   "id": "b1d98e4b",
   "metadata": {
    "collapsed": true
   },
   "outputs": [
    {
     "data": {
      "text/plain": [
       "[<ul class=\"sale_list _sale_list\">\n",
       " <li class=\"sale_item\">\n",
       " <div class=\"sale_box\">\n",
       " <div class=\"sale_tit\">\n",
       " <a href=\"#\" target=\"_blank\">H하우스장위</a>\n",
       " </div>\n",
       " <div class=\"sale_desc\">\n",
       " <img alt=\"\" class=\"thumb_img\" height=\"82\" src=\"https://search.pstatic.net/common/?src=https%3A%2F%2Flandthumb-phinf.pstatic.net%2F20200102_216%2Fisale_complex_1577947561833Uclja_JPEG%2Fuploadfile_202001025582218.jpg%3Ftype%3Dm232&amp;type=f82_82_q75\" width=\"82\"/>\n",
       " </div>\n",
       " <div class=\"sale_detail\">\n",
       " <dl class=\"detail_info\">\n",
       " <dt class=\"tit\">보증금</dt><dd class=\"txt\"><strong class=\"point\">16,000</strong> 만원</dd>\n",
       " <dt class=\"tit\">유형</dt><dd class=\"txt\">아파트<span class=\"bar\">|</span>일반민간임대</dd>\n",
       " <dt class=\"tit\">규모/면적</dt><dd class=\"txt\">분양 134세대<span class=\"bar\">|</span>45㎡~65㎡</dd>\n",
       " <dt class=\"tit\">위치</dt> <dd class=\"txt\">서울시 성북구 장위동</dd>\n",
       " </dl>\n",
       " </div>\n",
       " </div>\n",
       " </li>\n",
       " <li class=\"sale_item\">\n",
       " <div class=\"sale_box\">\n",
       " <div class=\"sale_tit\">\n",
       " <a href=\"#\" target=\"_blank\">고덕리엔파크2단지 장기전세</a>\n",
       " </div>\n",
       " <div class=\"sale_desc\">\n",
       " <img alt=\"\" class=\"thumb_img\" height=\"82\" src=\"https://search.pstatic.net/common/?src=https%3A%2F%2Flandthumb-phinf.pstatic.net%2F20110810_136%2Fisale_complex_1312968580369Yxsk9_JPEG%2Fuploadfile_201103075773845.jpg%3Ftype%3Dm232&amp;type=f82_82_q75\" width=\"82\"/>\n",
       " </div>\n",
       " <div class=\"sale_detail\">\n",
       " <dl class=\"detail_info\">\n",
       " <dt class=\"tit\">보증금</dt><dd class=\"txt\"><strong class=\"point\">38,400</strong> 만원</dd>\n",
       " <dt class=\"tit\">유형</dt><dd class=\"txt\">아파트<span class=\"bar\">|</span>장기전세주택</dd>\n",
       " <dt class=\"tit\">규모/면적</dt><dd class=\"txt\">분양 1세대<span class=\"bar\">|</span>149㎡</dd>\n",
       " <dt class=\"tit\">위치</dt> <dd class=\"txt\">서울시 강동구 강일동</dd>\n",
       " </dl>\n",
       " </div>\n",
       " </div>\n",
       " </li>\n",
       " <li class=\"sale_item\">\n",
       " <div class=\"sale_box\">\n",
       " <div class=\"sale_tit\">\n",
       " <a href=\"#\" target=\"_blank\">신정이펜하우스3단지 장기전세</a>\n",
       " </div>\n",
       " <div class=\"sale_desc\">\n",
       " <img alt=\"\" class=\"thumb_img\" height=\"82\" src=\"https://search.pstatic.net/common/?src=https%3A%2F%2Flandthumb-phinf.pstatic.net%2F20110810_260%2Fisale_complex_1312968335794i6pKe_JPEG%2Fuploadfile_201102243825127.jpg%3Ftype%3Dm232&amp;type=f82_82_q75\" width=\"82\"/>\n",
       " </div>\n",
       " <div class=\"sale_detail\">\n",
       " <dl class=\"detail_info\">\n",
       " <dt class=\"tit\">보증금</dt><dd class=\"txt\"><strong class=\"point\">39,040</strong> 만원</dd>\n",
       " <dt class=\"tit\">유형</dt><dd class=\"txt\">아파트<span class=\"bar\">|</span>장기전세주택</dd>\n",
       " <dt class=\"tit\">규모/면적</dt><dd class=\"txt\">분양 1세대<span class=\"bar\">|</span>148㎡</dd>\n",
       " <dt class=\"tit\">위치</dt> <dd class=\"txt\">서울시 양천구 신정동</dd>\n",
       " </dl>\n",
       " </div>\n",
       " </div>\n",
       " </li>\n",
       " <li class=\"sale_item\">\n",
       " <div class=\"sale_box\">\n",
       " <div class=\"sale_tit\">\n",
       " <a href=\"#\" target=\"_blank\">천왕이펜하우스2단지 장기전세</a>\n",
       " </div>\n",
       " <div class=\"sale_desc\">\n",
       " <img alt=\"\" class=\"thumb_img\" height=\"82\" src=\"https://search.pstatic.net/common/?src=https%3A%2F%2Flandthumb-phinf.pstatic.net%2F20110810_35%2Fisale_complex_1312968350479SO2pI_JPEG%2Fuploadfile_201102244996257.jpg%3Ftype%3Dm232&amp;type=f82_82_q75\" width=\"82\"/>\n",
       " </div>\n",
       " <div class=\"sale_detail\">\n",
       " <dl class=\"detail_info\">\n",
       " <dt class=\"tit\">보증금</dt><dd class=\"txt\"><strong class=\"point\">38,240</strong> 만원</dd>\n",
       " <dt class=\"tit\">유형</dt><dd class=\"txt\">아파트<span class=\"bar\">|</span>장기전세주택</dd>\n",
       " <dt class=\"tit\">규모/면적</dt><dd class=\"txt\">분양 1세대<span class=\"bar\">|</span>142㎡</dd>\n",
       " <dt class=\"tit\">위치</dt> <dd class=\"txt\">서울시 구로구 오류동</dd>\n",
       " </dl>\n",
       " </div>\n",
       " </div>\n",
       " </li>\n",
       " <li class=\"sale_item\">\n",
       " <div class=\"sale_box\">\n",
       " <div class=\"sale_tit\">\n",
       " <a href=\"#\" target=\"_blank\">송파파크데일2단지 장기전세</a>\n",
       " </div>\n",
       " <div class=\"sale_desc\">\n",
       " <img alt=\"\" class=\"thumb_img\" height=\"82\" src=\"https://search.pstatic.net/common/?src=https%3A%2F%2Flandthumb-phinf.pstatic.net%2F20110810_211%2Fisale_complex_1312968571650Iusoz_JPEG%2Fuploadfile_201103074989552.jpg%3Ftype%3Dm232&amp;type=f82_82_q75\" width=\"82\"/>\n",
       " </div>\n",
       " <div class=\"sale_detail\">\n",
       " <dl class=\"detail_info\">\n",
       " <dt class=\"tit\">보증금</dt><dd class=\"txt\"><strong class=\"point\">45,600</strong> 만원</dd>\n",
       " <dt class=\"tit\">유형</dt><dd class=\"txt\">아파트<span class=\"bar\">|</span>장기전세주택</dd>\n",
       " <dt class=\"tit\">규모/면적</dt><dd class=\"txt\">분양 1세대<span class=\"bar\">|</span>150㎡</dd>\n",
       " <dt class=\"tit\">위치</dt> <dd class=\"txt\">서울시 송파구 마천동</dd>\n",
       " </dl>\n",
       " </div>\n",
       " </div>\n",
       " </li>\n",
       " </ul>]"
      ]
     },
     "execution_count": 52,
     "metadata": {},
     "output_type": "execute_result"
    }
   ],
   "source": [
    "soup.select('.sale_list li')"
   ]
  },
  {
   "cell_type": "code",
   "execution_count": 54,
   "id": "e2f6aed8",
   "metadata": {},
   "outputs": [
    {
     "name": "stdout",
     "output_type": "stream",
     "text": [
      "[{'이름': 'H하우스장위', '보증금': '16000', '유형': '아파트', '분양유형': '일반민간임대', '세대수': '분양 134세대', '평형': '45㎡~65㎡'}, {'이름': '고덕리엔파크2단지 장기전세', '보증금': '38400', '유형': '아파트', '분양유형': '장기전세주택', '세대수': '분양 1세대', '평형': '149㎡'}, {'이름': '신정이펜하우스3단지 장기전세', '보증금': '39040', '유형': '아파트', '분양유형': '장기전세주택', '세대수': '분양 1세대', '평형': '148㎡'}, {'이름': '천왕이펜하우스2단지 장기전세', '보증금': '38240', '유형': '아파트', '분양유형': '장기전세주택', '세대수': '분양 1세대', '평형': '142㎡'}, {'이름': '송파파크데일2단지 장기전세', '보증금': '45600', '유형': '아파트', '분양유형': '장기전세주택', '세대수': '분양 1세대', '평형': '150㎡'}]\n"
     ]
    }
   ],
   "source": [
    "apt = []\n",
    "\n",
    "for item in soup.select('.sale_list li'):\n",
    "    apt.append({\n",
    "     '이름' : item.select_one('.sale_tit').text.strip(),\n",
    "     '보증금' : item.select('.detail_info dd.txt')[0].select_one('strong').text.replace(',',''),\n",
    "      '유형' : item.select('.detail_info dd.txt')[1].text.split('|')[0],\n",
    "     '분양유형' : item.select('.detail_info dd.txt')[1].text.split('|')[1],\n",
    "      '세대수' :  item.select('.detail_info dd.txt')[2].text.split('|')[0],\n",
    "        '평형' : item.select('.detail_info dd.txt')[2].text.split('|')[1]\n",
    "    })\n",
    "print(apt)"
   ]
  },
  {
   "cell_type": "code",
   "execution_count": null,
   "id": "ce2d5f09",
   "metadata": {},
   "outputs": [],
   "source": []
  }
 ],
 "metadata": {
  "kernelspec": {
   "display_name": "Python 3 (ipykernel)",
   "language": "python",
   "name": "python3"
  },
  "language_info": {
   "codemirror_mode": {
    "name": "ipython",
    "version": 3
   },
   "file_extension": ".py",
   "mimetype": "text/x-python",
   "name": "python",
   "nbconvert_exporter": "python",
   "pygments_lexer": "ipython3",
   "version": "3.8.7"
  }
 },
 "nbformat": 4,
 "nbformat_minor": 5
}
